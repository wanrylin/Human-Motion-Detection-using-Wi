{
 "cells": [
  {
   "cell_type": "markdown",
   "id": "982e6d15",
   "metadata": {},
   "source": [
    "# This file is the final version of movement detection \n",
    "### Using PCA and SVM"
   ]
  },
  {
   "cell_type": "code",
   "execution_count": 1,
   "id": "ec98a90b",
   "metadata": {
    "ExecuteTime": {
     "end_time": "2023-04-13T08:20:15.124571Z",
     "start_time": "2023-04-13T08:20:14.354831Z"
    }
   },
   "outputs": [],
   "source": [
    "import pandas as pd\n",
    "import numpy as np\n",
    "from sklearn.model_selection import train_test_split\n",
    "from sklearn.svm import SVC\n",
    "from sklearn.metrics import accuracy_score, precision_score, recall_score, f1_score\n",
    "from sklearn.preprocessing import StandardScaler\n",
    "import os\n",
    "from scipy.stats import skew\n",
    "from scipy import signal\n",
    "import matplotlib.pyplot as plt\n",
    "import joblib\n",
    "from sklearn.decomposition import PCA\n",
    "from sklearn.metrics import confusion_matrix"
   ]
  },
  {
   "cell_type": "markdown",
   "id": "dbd8d22c",
   "metadata": {},
   "source": [
    "# Training stage"
   ]
  },
  {
   "cell_type": "markdown",
   "id": "a179cd8c",
   "metadata": {},
   "source": [
    "### static data feature generation"
   ]
  },
  {
   "cell_type": "code",
   "execution_count": 3,
   "id": "0d4b9d6c",
   "metadata": {
    "ExecuteTime": {
     "end_time": "2023-04-13T08:21:17.016965Z",
     "start_time": "2023-04-13T08:21:14.822288Z"
    },
    "code_folding": []
   },
   "outputs": [],
   "source": [
    "foldername = '/Users/wanrylin/Master Programme/dataset/movement detection/static'\n",
    "list_path = os.listdir(foldername)\n",
    "list_path = [x for x in list_path if 'p_static' in x]\n",
    "feature_num = 2 # average,variance\n",
    "dimension_num = 10 # collect first 10 dimensions after PCA\n",
    "\n",
    "# iterate each static data file\n",
    "all_feature = np.zeros((1, feature_num*dimension_num))\n",
    "for file in list_path:\n",
    "    \n",
    "    #1. load csi data and only use phase data \n",
    "    path = foldername + '/' + file\n",
    "    CSIdata = pd.read_csv(path)\n",
    "    CSI_array = CSIdata.values\n",
    "    time_sequence = CSI_array[:, 0]\n",
    "    # Vectorized function to convert string to complex\n",
    "    convert_func = np.vectorize(lambda x: complex(x))\n",
    "    # Convert string matrix to complex matrix\n",
    "    csi_slice = convert_func(CSI_array[:, 1:])\n",
    "    phase = np.angle(csi_slice)\n",
    "    \n",
    "    #2. create csi feature\n",
    "    # create a PCA object with 10 components\n",
    "    pca = PCA(dimension_num)\n",
    "    # fit the PCA object to the data and transform the data\n",
    "    phase_pca = pca.fit_transform(phase)\n",
    "    # iterate each component\n",
    "    feature_matrix = np.zeros((feature_num, dimension_num))\n",
    "    for i in range(dimension_num):\n",
    "        pha_mean = np.mean(phase_pca[:, i])\n",
    "        pha_var = np.var(phase_pca[:, i])\n",
    "        sub_feature = np.array([pha_mean, pha_var])\n",
    "        feature_matrix[:, i] = sub_feature\n",
    "    feature_matrix = feature_matrix.T\n",
    "    feature = feature_matrix.reshape(1, -1)\n",
    "    all_feature = np.concatenate((all_feature, feature), axis=0)\n",
    "\n",
    "# save all feature\n",
    "all_feature = all_feature[1:, :]\n",
    "feature_df = pd.DataFrame(all_feature)\n",
    "file_name = foldername + '/p_feature' + '.csv'\n",
    "feature_df.to_csv(file_name, index=False)"
   ]
  },
  {
   "cell_type": "code",
   "execution_count": 4,
   "id": "f9b3409e",
   "metadata": {
    "ExecuteTime": {
     "end_time": "2023-04-06T12:03:46.972906Z",
     "start_time": "2023-04-06T12:03:46.935528Z"
    }
   },
   "outputs": [
    {
     "data": {
      "text/html": [
       "<div>\n",
       "<style scoped>\n",
       "    .dataframe tbody tr th:only-of-type {\n",
       "        vertical-align: middle;\n",
       "    }\n",
       "\n",
       "    .dataframe tbody tr th {\n",
       "        vertical-align: top;\n",
       "    }\n",
       "\n",
       "    .dataframe thead th {\n",
       "        text-align: right;\n",
       "    }\n",
       "</style>\n",
       "<table border=\"1\" class=\"dataframe\">\n",
       "  <thead>\n",
       "    <tr style=\"text-align: right;\">\n",
       "      <th></th>\n",
       "      <th>0</th>\n",
       "      <th>1</th>\n",
       "      <th>2</th>\n",
       "      <th>3</th>\n",
       "      <th>4</th>\n",
       "      <th>5</th>\n",
       "      <th>6</th>\n",
       "      <th>7</th>\n",
       "      <th>8</th>\n",
       "      <th>9</th>\n",
       "      <th>10</th>\n",
       "      <th>11</th>\n",
       "      <th>12</th>\n",
       "      <th>13</th>\n",
       "      <th>14</th>\n",
       "      <th>15</th>\n",
       "      <th>16</th>\n",
       "      <th>17</th>\n",
       "      <th>18</th>\n",
       "      <th>19</th>\n",
       "    </tr>\n",
       "  </thead>\n",
       "  <tbody>\n",
       "    <tr>\n",
       "      <th>0</th>\n",
       "      <td>1.071170e-16</td>\n",
       "      <td>23.564116</td>\n",
       "      <td>-5.355850e-17</td>\n",
       "      <td>1.663969</td>\n",
       "      <td>1.606755e-16</td>\n",
       "      <td>0.131073</td>\n",
       "      <td>8.368515e-17</td>\n",
       "      <td>0.087026</td>\n",
       "      <td>1.405911e-16</td>\n",
       "      <td>0.015247</td>\n",
       "      <td>6.806392e-17</td>\n",
       "      <td>0.010586</td>\n",
       "      <td>-1.790862e-16</td>\n",
       "      <td>0.009208</td>\n",
       "      <td>-9.177472e-17</td>\n",
       "      <td>0.007424</td>\n",
       "      <td>1.115802e-18</td>\n",
       "      <td>0.005233</td>\n",
       "      <td>3.938781e-16</td>\n",
       "      <td>0.003942</td>\n",
       "    </tr>\n",
       "    <tr>\n",
       "      <th>1</th>\n",
       "      <td>-9.150929e-16</td>\n",
       "      <td>19.070015</td>\n",
       "      <td>1.794300e-17</td>\n",
       "      <td>1.243541</td>\n",
       "      <td>-9.812577e-17</td>\n",
       "      <td>0.092875</td>\n",
       "      <td>1.682156e-17</td>\n",
       "      <td>0.045825</td>\n",
       "      <td>-3.925031e-17</td>\n",
       "      <td>0.037982</td>\n",
       "      <td>3.498885e-16</td>\n",
       "      <td>0.034273</td>\n",
       "      <td>1.155081e-16</td>\n",
       "      <td>0.014247</td>\n",
       "      <td>-3.207311e-16</td>\n",
       "      <td>0.010701</td>\n",
       "      <td>-1.541976e-16</td>\n",
       "      <td>0.005068</td>\n",
       "      <td>-1.940087e-16</td>\n",
       "      <td>0.003679</td>\n",
       "    </tr>\n",
       "    <tr>\n",
       "      <th>2</th>\n",
       "      <td>2.499397e-16</td>\n",
       "      <td>21.242101</td>\n",
       "      <td>-1.383595e-16</td>\n",
       "      <td>0.430106</td>\n",
       "      <td>6.025331e-17</td>\n",
       "      <td>0.051502</td>\n",
       "      <td>-6.360072e-17</td>\n",
       "      <td>0.021458</td>\n",
       "      <td>6.862183e-17</td>\n",
       "      <td>0.012059</td>\n",
       "      <td>-3.571961e-16</td>\n",
       "      <td>0.006964</td>\n",
       "      <td>-1.311067e-16</td>\n",
       "      <td>0.004881</td>\n",
       "      <td>2.603741e-16</td>\n",
       "      <td>0.003396</td>\n",
       "      <td>-5.579010e-18</td>\n",
       "      <td>0.003038</td>\n",
       "      <td>-8.846218e-17</td>\n",
       "      <td>0.002312</td>\n",
       "    </tr>\n",
       "    <tr>\n",
       "      <th>3</th>\n",
       "      <td>2.389516e-16</td>\n",
       "      <td>24.014911</td>\n",
       "      <td>-3.606816e-17</td>\n",
       "      <td>1.425486</td>\n",
       "      <td>-3.888598e-16</td>\n",
       "      <td>0.121965</td>\n",
       "      <td>3.516646e-16</td>\n",
       "      <td>0.091474</td>\n",
       "      <td>-8.228049e-17</td>\n",
       "      <td>0.072786</td>\n",
       "      <td>2.186632e-16</td>\n",
       "      <td>0.063636</td>\n",
       "      <td>1.758323e-16</td>\n",
       "      <td>0.052236</td>\n",
       "      <td>1.792137e-16</td>\n",
       "      <td>0.028499</td>\n",
       "      <td>3.634994e-16</td>\n",
       "      <td>0.025449</td>\n",
       "      <td>1.780865e-16</td>\n",
       "      <td>0.022771</td>\n",
       "    </tr>\n",
       "    <tr>\n",
       "      <th>4</th>\n",
       "      <td>8.881784e-17</td>\n",
       "      <td>18.534323</td>\n",
       "      <td>-7.771561e-18</td>\n",
       "      <td>0.010211</td>\n",
       "      <td>-8.631984e-17</td>\n",
       "      <td>0.009092</td>\n",
       "      <td>-6.550316e-17</td>\n",
       "      <td>0.008107</td>\n",
       "      <td>1.310063e-16</td>\n",
       "      <td>0.005186</td>\n",
       "      <td>-5.773160e-17</td>\n",
       "      <td>0.002723</td>\n",
       "      <td>-6.453171e-17</td>\n",
       "      <td>0.002617</td>\n",
       "      <td>-8.659740e-17</td>\n",
       "      <td>0.002328</td>\n",
       "      <td>1.508516e-16</td>\n",
       "      <td>0.001543</td>\n",
       "      <td>5.884182e-17</td>\n",
       "      <td>0.001353</td>\n",
       "    </tr>\n",
       "    <tr>\n",
       "      <th>...</th>\n",
       "      <td>...</td>\n",
       "      <td>...</td>\n",
       "      <td>...</td>\n",
       "      <td>...</td>\n",
       "      <td>...</td>\n",
       "      <td>...</td>\n",
       "      <td>...</td>\n",
       "      <td>...</td>\n",
       "      <td>...</td>\n",
       "      <td>...</td>\n",
       "      <td>...</td>\n",
       "      <td>...</td>\n",
       "      <td>...</td>\n",
       "      <td>...</td>\n",
       "      <td>...</td>\n",
       "      <td>...</td>\n",
       "      <td>...</td>\n",
       "      <td>...</td>\n",
       "      <td>...</td>\n",
       "      <td>...</td>\n",
       "    </tr>\n",
       "    <tr>\n",
       "      <th>366</th>\n",
       "      <td>2.454764e-16</td>\n",
       "      <td>18.983649</td>\n",
       "      <td>-1.428227e-16</td>\n",
       "      <td>1.488793</td>\n",
       "      <td>1.562123e-16</td>\n",
       "      <td>0.132719</td>\n",
       "      <td>-1.983338e-16</td>\n",
       "      <td>0.052286</td>\n",
       "      <td>-9.372737e-17</td>\n",
       "      <td>0.019540</td>\n",
       "      <td>-1.673703e-16</td>\n",
       "      <td>0.016817</td>\n",
       "      <td>2.867611e-16</td>\n",
       "      <td>0.009834</td>\n",
       "      <td>1.405911e-16</td>\n",
       "      <td>0.009506</td>\n",
       "      <td>-1.295725e-16</td>\n",
       "      <td>0.006993</td>\n",
       "      <td>-4.463208e-17</td>\n",
       "      <td>0.005928</td>\n",
       "    </tr>\n",
       "    <tr>\n",
       "      <th>367</th>\n",
       "      <td>-1.930823e-16</td>\n",
       "      <td>19.620186</td>\n",
       "      <td>1.448117e-17</td>\n",
       "      <td>0.591175</td>\n",
       "      <td>8.688702e-17</td>\n",
       "      <td>0.109257</td>\n",
       "      <td>3.113452e-16</td>\n",
       "      <td>0.067261</td>\n",
       "      <td>-2.654881e-17</td>\n",
       "      <td>0.062905</td>\n",
       "      <td>-1.834282e-16</td>\n",
       "      <td>0.049309</td>\n",
       "      <td>-1.025750e-16</td>\n",
       "      <td>0.014951</td>\n",
       "      <td>-2.274750e-16</td>\n",
       "      <td>0.010161</td>\n",
       "      <td>-1.644216e-17</td>\n",
       "      <td>0.006019</td>\n",
       "      <td>-2.148040e-16</td>\n",
       "      <td>0.005261</td>\n",
       "    </tr>\n",
       "    <tr>\n",
       "      <th>368</th>\n",
       "      <td>-1.983749e-16</td>\n",
       "      <td>22.463803</td>\n",
       "      <td>1.690695e-16</td>\n",
       "      <td>0.921094</td>\n",
       "      <td>-2.017563e-16</td>\n",
       "      <td>0.315610</td>\n",
       "      <td>1.014417e-17</td>\n",
       "      <td>0.044681</td>\n",
       "      <td>5.861076e-17</td>\n",
       "      <td>0.035157</td>\n",
       "      <td>6.875493e-17</td>\n",
       "      <td>0.010721</td>\n",
       "      <td>-1.352556e-16</td>\n",
       "      <td>0.008709</td>\n",
       "      <td>-2.485322e-16</td>\n",
       "      <td>0.005811</td>\n",
       "      <td>-2.772740e-16</td>\n",
       "      <td>0.004167</td>\n",
       "      <td>-1.555439e-16</td>\n",
       "      <td>0.003598</td>\n",
       "    </tr>\n",
       "    <tr>\n",
       "      <th>369</th>\n",
       "      <td>3.927623e-16</td>\n",
       "      <td>21.649597</td>\n",
       "      <td>-3.124246e-17</td>\n",
       "      <td>1.403603</td>\n",
       "      <td>-1.199487e-17</td>\n",
       "      <td>0.047935</td>\n",
       "      <td>-1.093486e-16</td>\n",
       "      <td>0.039099</td>\n",
       "      <td>1.433806e-16</td>\n",
       "      <td>0.010215</td>\n",
       "      <td>3.012665e-16</td>\n",
       "      <td>0.004868</td>\n",
       "      <td>1.417069e-16</td>\n",
       "      <td>0.003551</td>\n",
       "      <td>-9.679583e-17</td>\n",
       "      <td>0.002979</td>\n",
       "      <td>-3.336248e-16</td>\n",
       "      <td>0.002638</td>\n",
       "      <td>4.184258e-17</td>\n",
       "      <td>0.002340</td>\n",
       "    </tr>\n",
       "    <tr>\n",
       "      <th>370</th>\n",
       "      <td>-7.141133e-17</td>\n",
       "      <td>20.400276</td>\n",
       "      <td>7.141133e-17</td>\n",
       "      <td>1.736167</td>\n",
       "      <td>-2.856453e-16</td>\n",
       "      <td>0.438969</td>\n",
       "      <td>-2.672346e-16</td>\n",
       "      <td>0.070949</td>\n",
       "      <td>-7.810614e-17</td>\n",
       "      <td>0.051411</td>\n",
       "      <td>1.039091e-16</td>\n",
       "      <td>0.034761</td>\n",
       "      <td>-7.880352e-17</td>\n",
       "      <td>0.010558</td>\n",
       "      <td>-1.115802e-17</td>\n",
       "      <td>0.007311</td>\n",
       "      <td>1.506333e-16</td>\n",
       "      <td>0.005134</td>\n",
       "      <td>-1.517491e-16</td>\n",
       "      <td>0.004276</td>\n",
       "    </tr>\n",
       "  </tbody>\n",
       "</table>\n",
       "<p>371 rows × 20 columns</p>\n",
       "</div>"
      ],
      "text/plain": [
       "               0          1             2         3             4         5   \\\n",
       "0    1.071170e-16  23.564116 -5.355850e-17  1.663969  1.606755e-16  0.131073   \n",
       "1   -9.150929e-16  19.070015  1.794300e-17  1.243541 -9.812577e-17  0.092875   \n",
       "2    2.499397e-16  21.242101 -1.383595e-16  0.430106  6.025331e-17  0.051502   \n",
       "3    2.389516e-16  24.014911 -3.606816e-17  1.425486 -3.888598e-16  0.121965   \n",
       "4    8.881784e-17  18.534323 -7.771561e-18  0.010211 -8.631984e-17  0.009092   \n",
       "..            ...        ...           ...       ...           ...       ...   \n",
       "366  2.454764e-16  18.983649 -1.428227e-16  1.488793  1.562123e-16  0.132719   \n",
       "367 -1.930823e-16  19.620186  1.448117e-17  0.591175  8.688702e-17  0.109257   \n",
       "368 -1.983749e-16  22.463803  1.690695e-16  0.921094 -2.017563e-16  0.315610   \n",
       "369  3.927623e-16  21.649597 -3.124246e-17  1.403603 -1.199487e-17  0.047935   \n",
       "370 -7.141133e-17  20.400276  7.141133e-17  1.736167 -2.856453e-16  0.438969   \n",
       "\n",
       "               6         7             8         9             10        11  \\\n",
       "0    8.368515e-17  0.087026  1.405911e-16  0.015247  6.806392e-17  0.010586   \n",
       "1    1.682156e-17  0.045825 -3.925031e-17  0.037982  3.498885e-16  0.034273   \n",
       "2   -6.360072e-17  0.021458  6.862183e-17  0.012059 -3.571961e-16  0.006964   \n",
       "3    3.516646e-16  0.091474 -8.228049e-17  0.072786  2.186632e-16  0.063636   \n",
       "4   -6.550316e-17  0.008107  1.310063e-16  0.005186 -5.773160e-17  0.002723   \n",
       "..            ...       ...           ...       ...           ...       ...   \n",
       "366 -1.983338e-16  0.052286 -9.372737e-17  0.019540 -1.673703e-16  0.016817   \n",
       "367  3.113452e-16  0.067261 -2.654881e-17  0.062905 -1.834282e-16  0.049309   \n",
       "368  1.014417e-17  0.044681  5.861076e-17  0.035157  6.875493e-17  0.010721   \n",
       "369 -1.093486e-16  0.039099  1.433806e-16  0.010215  3.012665e-16  0.004868   \n",
       "370 -2.672346e-16  0.070949 -7.810614e-17  0.051411  1.039091e-16  0.034761   \n",
       "\n",
       "               12        13            14        15            16        17  \\\n",
       "0   -1.790862e-16  0.009208 -9.177472e-17  0.007424  1.115802e-18  0.005233   \n",
       "1    1.155081e-16  0.014247 -3.207311e-16  0.010701 -1.541976e-16  0.005068   \n",
       "2   -1.311067e-16  0.004881  2.603741e-16  0.003396 -5.579010e-18  0.003038   \n",
       "3    1.758323e-16  0.052236  1.792137e-16  0.028499  3.634994e-16  0.025449   \n",
       "4   -6.453171e-17  0.002617 -8.659740e-17  0.002328  1.508516e-16  0.001543   \n",
       "..            ...       ...           ...       ...           ...       ...   \n",
       "366  2.867611e-16  0.009834  1.405911e-16  0.009506 -1.295725e-16  0.006993   \n",
       "367 -1.025750e-16  0.014951 -2.274750e-16  0.010161 -1.644216e-17  0.006019   \n",
       "368 -1.352556e-16  0.008709 -2.485322e-16  0.005811 -2.772740e-16  0.004167   \n",
       "369  1.417069e-16  0.003551 -9.679583e-17  0.002979 -3.336248e-16  0.002638   \n",
       "370 -7.880352e-17  0.010558 -1.115802e-17  0.007311  1.506333e-16  0.005134   \n",
       "\n",
       "               18        19  \n",
       "0    3.938781e-16  0.003942  \n",
       "1   -1.940087e-16  0.003679  \n",
       "2   -8.846218e-17  0.002312  \n",
       "3    1.780865e-16  0.022771  \n",
       "4    5.884182e-17  0.001353  \n",
       "..            ...       ...  \n",
       "366 -4.463208e-17  0.005928  \n",
       "367 -2.148040e-16  0.005261  \n",
       "368 -1.555439e-16  0.003598  \n",
       "369  4.184258e-17  0.002340  \n",
       "370 -1.517491e-16  0.004276  \n",
       "\n",
       "[371 rows x 20 columns]"
      ]
     },
     "execution_count": 4,
     "metadata": {},
     "output_type": "execute_result"
    }
   ],
   "source": [
    "feature_df"
   ]
  },
  {
   "cell_type": "markdown",
   "id": "26ae2043",
   "metadata": {},
   "source": [
    "### dynamic data feature generation"
   ]
  },
  {
   "cell_type": "code",
   "execution_count": 5,
   "id": "5b542106",
   "metadata": {
    "ExecuteTime": {
     "end_time": "2023-04-06T12:03:52.990834Z",
     "start_time": "2023-04-06T12:03:51.024106Z"
    }
   },
   "outputs": [],
   "source": [
    "foldername = '/Users/wanrylin/Master Programme/dataset/movement detection/dynamic'\n",
    "list_path = os.listdir(foldername)\n",
    "list_path = [x for x in list_path if 'dynamic' in x]\n",
    "feature_num = 2 # average,variance\n",
    "dimension_num = 10 # collect first 10 dimensions after PCA\n",
    "\n",
    "# iterate each static data file\n",
    "all_feature = np.zeros((1, feature_num*dimension_num))\n",
    "for file in list_path:\n",
    "    \n",
    "    #1. load csi data and only use phase data \n",
    "    path = foldername + '/' + file\n",
    "    CSIdata = pd.read_csv(path)\n",
    "    CSI_array = CSIdata.values\n",
    "    time_sequence = CSI_array[:, 0]\n",
    "    # Vectorized function to convert string to complex\n",
    "    convert_func = np.vectorize(lambda x: complex(x))\n",
    "    # Convert string matrix to complex matrix\n",
    "    csi_slice = convert_func(CSI_array[:, 1:])\n",
    "    phase = np.angle(csi_slice)\n",
    "    \n",
    "    #2. create csi feature\n",
    "    # create a PCA object with 10 components\n",
    "    pca = PCA(dimension_num)\n",
    "    # fit the PCA object to the data and transform the data\n",
    "    phase_pca = pca.fit_transform(phase)\n",
    "    # iterate each component\n",
    "    feature_matrix = np.zeros((feature_num, dimension_num))\n",
    "    for i in range(dimension_num):\n",
    "        pha_mean = np.mean(phase_pca[:, i])\n",
    "        pha_var = np.var(phase_pca[:, i])\n",
    "        sub_feature = np.array([pha_mean, pha_var])\n",
    "        feature_matrix[:, i] = sub_feature\n",
    "    feature_matrix = feature_matrix.T\n",
    "    feature = feature_matrix.reshape(1, -1)\n",
    "    all_feature = np.concatenate((all_feature, feature), axis=0)\n",
    "\n",
    "# save all feature\n",
    "all_feature = all_feature[1:, :]\n",
    "feature_df = pd.DataFrame(all_feature)\n",
    "file_name = foldername + '/all_feature' + '.csv'\n",
    "feature_df.to_csv(file_name, index=False)"
   ]
  },
  {
   "cell_type": "code",
   "execution_count": 6,
   "id": "129c3ad7",
   "metadata": {
    "ExecuteTime": {
     "end_time": "2023-04-06T12:03:55.157299Z",
     "start_time": "2023-04-06T12:03:55.126940Z"
    }
   },
   "outputs": [
    {
     "data": {
      "text/html": [
       "<div>\n",
       "<style scoped>\n",
       "    .dataframe tbody tr th:only-of-type {\n",
       "        vertical-align: middle;\n",
       "    }\n",
       "\n",
       "    .dataframe tbody tr th {\n",
       "        vertical-align: top;\n",
       "    }\n",
       "\n",
       "    .dataframe thead th {\n",
       "        text-align: right;\n",
       "    }\n",
       "</style>\n",
       "<table border=\"1\" class=\"dataframe\">\n",
       "  <thead>\n",
       "    <tr style=\"text-align: right;\">\n",
       "      <th></th>\n",
       "      <th>0</th>\n",
       "      <th>1</th>\n",
       "      <th>2</th>\n",
       "      <th>3</th>\n",
       "      <th>4</th>\n",
       "      <th>5</th>\n",
       "      <th>6</th>\n",
       "      <th>7</th>\n",
       "      <th>8</th>\n",
       "      <th>9</th>\n",
       "      <th>10</th>\n",
       "      <th>11</th>\n",
       "      <th>12</th>\n",
       "      <th>13</th>\n",
       "      <th>14</th>\n",
       "      <th>15</th>\n",
       "      <th>16</th>\n",
       "      <th>17</th>\n",
       "      <th>18</th>\n",
       "      <th>19</th>\n",
       "    </tr>\n",
       "  </thead>\n",
       "  <tbody>\n",
       "    <tr>\n",
       "      <th>0</th>\n",
       "      <td>7.105427e-17</td>\n",
       "      <td>32.846442</td>\n",
       "      <td>-1.865175e-16</td>\n",
       "      <td>3.895003</td>\n",
       "      <td>-1.776357e-17</td>\n",
       "      <td>1.636667</td>\n",
       "      <td>3.463896e-16</td>\n",
       "      <td>1.325940</td>\n",
       "      <td>-3.552714e-17</td>\n",
       "      <td>1.021010</td>\n",
       "      <td>-7.216450e-17</td>\n",
       "      <td>0.613142</td>\n",
       "      <td>-1.798561e-16</td>\n",
       "      <td>0.558792</td>\n",
       "      <td>-2.220446e-16</td>\n",
       "      <td>0.436230</td>\n",
       "      <td>-3.552714e-16</td>\n",
       "      <td>0.423309</td>\n",
       "      <td>-1.332268e-17</td>\n",
       "      <td>0.319534</td>\n",
       "    </tr>\n",
       "    <tr>\n",
       "      <th>1</th>\n",
       "      <td>-2.398082e-16</td>\n",
       "      <td>12.129902</td>\n",
       "      <td>-1.421085e-16</td>\n",
       "      <td>6.945776</td>\n",
       "      <td>-1.065814e-16</td>\n",
       "      <td>6.011744</td>\n",
       "      <td>-1.598721e-16</td>\n",
       "      <td>1.729823</td>\n",
       "      <td>0.000000e+00</td>\n",
       "      <td>1.428150</td>\n",
       "      <td>1.332268e-17</td>\n",
       "      <td>0.862343</td>\n",
       "      <td>-1.376677e-16</td>\n",
       "      <td>0.586690</td>\n",
       "      <td>-1.065814e-16</td>\n",
       "      <td>0.525981</td>\n",
       "      <td>5.773160e-17</td>\n",
       "      <td>0.367125</td>\n",
       "      <td>-3.330669e-17</td>\n",
       "      <td>0.338598</td>\n",
       "    </tr>\n",
       "    <tr>\n",
       "      <th>2</th>\n",
       "      <td>2.164090e-16</td>\n",
       "      <td>19.817826</td>\n",
       "      <td>-3.787157e-16</td>\n",
       "      <td>1.841662</td>\n",
       "      <td>3.606816e-16</td>\n",
       "      <td>1.086711</td>\n",
       "      <td>-1.938664e-16</td>\n",
       "      <td>0.719824</td>\n",
       "      <td>3.606816e-17</td>\n",
       "      <td>0.422886</td>\n",
       "      <td>1.442726e-16</td>\n",
       "      <td>0.280780</td>\n",
       "      <td>4.508520e-17</td>\n",
       "      <td>0.237463</td>\n",
       "      <td>-2.254260e-17</td>\n",
       "      <td>0.137688</td>\n",
       "      <td>-1.532897e-16</td>\n",
       "      <td>0.080740</td>\n",
       "      <td>-1.803408e-16</td>\n",
       "      <td>0.067111</td>\n",
       "    </tr>\n",
       "    <tr>\n",
       "      <th>3</th>\n",
       "      <td>2.131628e-16</td>\n",
       "      <td>24.190847</td>\n",
       "      <td>-1.243450e-16</td>\n",
       "      <td>1.378359</td>\n",
       "      <td>-3.552714e-17</td>\n",
       "      <td>1.112579</td>\n",
       "      <td>8.604228e-17</td>\n",
       "      <td>0.564226</td>\n",
       "      <td>-1.154632e-16</td>\n",
       "      <td>0.354600</td>\n",
       "      <td>-9.325873e-17</td>\n",
       "      <td>0.167531</td>\n",
       "      <td>8.881784e-17</td>\n",
       "      <td>0.138405</td>\n",
       "      <td>1.909584e-16</td>\n",
       "      <td>0.079842</td>\n",
       "      <td>-3.663736e-17</td>\n",
       "      <td>0.045023</td>\n",
       "      <td>-3.552714e-17</td>\n",
       "      <td>0.037889</td>\n",
       "    </tr>\n",
       "    <tr>\n",
       "      <th>4</th>\n",
       "      <td>-3.095167e-16</td>\n",
       "      <td>23.694344</td>\n",
       "      <td>3.588600e-17</td>\n",
       "      <td>1.842471</td>\n",
       "      <td>1.906444e-16</td>\n",
       "      <td>1.302764</td>\n",
       "      <td>1.973730e-16</td>\n",
       "      <td>0.792529</td>\n",
       "      <td>6.728624e-17</td>\n",
       "      <td>0.602834</td>\n",
       "      <td>-1.872800e-16</td>\n",
       "      <td>0.475161</td>\n",
       "      <td>-1.928872e-16</td>\n",
       "      <td>0.318926</td>\n",
       "      <td>1.076580e-16</td>\n",
       "      <td>0.296571</td>\n",
       "      <td>1.884015e-16</td>\n",
       "      <td>0.223037</td>\n",
       "      <td>1.300867e-16</td>\n",
       "      <td>0.185024</td>\n",
       "    </tr>\n",
       "    <tr>\n",
       "      <th>...</th>\n",
       "      <td>...</td>\n",
       "      <td>...</td>\n",
       "      <td>...</td>\n",
       "      <td>...</td>\n",
       "      <td>...</td>\n",
       "      <td>...</td>\n",
       "      <td>...</td>\n",
       "      <td>...</td>\n",
       "      <td>...</td>\n",
       "      <td>...</td>\n",
       "      <td>...</td>\n",
       "      <td>...</td>\n",
       "      <td>...</td>\n",
       "      <td>...</td>\n",
       "      <td>...</td>\n",
       "      <td>...</td>\n",
       "      <td>...</td>\n",
       "      <td>...</td>\n",
       "      <td>...</td>\n",
       "      <td>...</td>\n",
       "    </tr>\n",
       "    <tr>\n",
       "      <th>122</th>\n",
       "      <td>-5.355850e-16</td>\n",
       "      <td>20.542000</td>\n",
       "      <td>-2.856453e-16</td>\n",
       "      <td>1.551869</td>\n",
       "      <td>1.249698e-16</td>\n",
       "      <td>0.691720</td>\n",
       "      <td>2.343184e-17</td>\n",
       "      <td>0.188400</td>\n",
       "      <td>1.525859e-16</td>\n",
       "      <td>0.140806</td>\n",
       "      <td>4.206574e-16</td>\n",
       "      <td>0.131624</td>\n",
       "      <td>-1.389174e-16</td>\n",
       "      <td>0.078284</td>\n",
       "      <td>5.899803e-17</td>\n",
       "      <td>0.029014</td>\n",
       "      <td>3.347406e-18</td>\n",
       "      <td>0.014260</td>\n",
       "      <td>-7.587454e-17</td>\n",
       "      <td>0.011303</td>\n",
       "    </tr>\n",
       "    <tr>\n",
       "      <th>123</th>\n",
       "      <td>-1.450087e-16</td>\n",
       "      <td>22.714007</td>\n",
       "      <td>-7.250436e-17</td>\n",
       "      <td>0.357538</td>\n",
       "      <td>3.965082e-17</td>\n",
       "      <td>0.070203</td>\n",
       "      <td>-5.140446e-17</td>\n",
       "      <td>0.044883</td>\n",
       "      <td>-1.336799e-16</td>\n",
       "      <td>0.015022</td>\n",
       "      <td>-2.101494e-16</td>\n",
       "      <td>0.010321</td>\n",
       "      <td>-2.209117e-17</td>\n",
       "      <td>0.006700</td>\n",
       "      <td>-3.200388e-17</td>\n",
       "      <td>0.004929</td>\n",
       "      <td>-9.091367e-17</td>\n",
       "      <td>0.003408</td>\n",
       "      <td>2.664040e-18</td>\n",
       "      <td>0.002523</td>\n",
       "    </tr>\n",
       "    <tr>\n",
       "      <th>124</th>\n",
       "      <td>-1.785283e-16</td>\n",
       "      <td>15.288692</td>\n",
       "      <td>-1.785283e-16</td>\n",
       "      <td>1.058375</td>\n",
       "      <td>1.562123e-16</td>\n",
       "      <td>0.660979</td>\n",
       "      <td>2.186972e-16</td>\n",
       "      <td>0.330992</td>\n",
       "      <td>-8.033775e-17</td>\n",
       "      <td>0.275713</td>\n",
       "      <td>2.231604e-16</td>\n",
       "      <td>0.206348</td>\n",
       "      <td>1.115802e-18</td>\n",
       "      <td>0.143673</td>\n",
       "      <td>-2.499397e-16</td>\n",
       "      <td>0.130936</td>\n",
       "      <td>4.463208e-17</td>\n",
       "      <td>0.093081</td>\n",
       "      <td>4.909529e-17</td>\n",
       "      <td>0.057816</td>\n",
       "    </tr>\n",
       "    <tr>\n",
       "      <th>125</th>\n",
       "      <td>-1.421085e-16</td>\n",
       "      <td>35.387977</td>\n",
       "      <td>8.881784e-18</td>\n",
       "      <td>3.365012</td>\n",
       "      <td>-1.776357e-17</td>\n",
       "      <td>1.741263</td>\n",
       "      <td>6.217249e-17</td>\n",
       "      <td>1.485274</td>\n",
       "      <td>1.065814e-16</td>\n",
       "      <td>0.825351</td>\n",
       "      <td>-5.551115e-17</td>\n",
       "      <td>0.690933</td>\n",
       "      <td>-2.953193e-16</td>\n",
       "      <td>0.599731</td>\n",
       "      <td>2.220446e-17</td>\n",
       "      <td>0.440756</td>\n",
       "      <td>-2.220446e-17</td>\n",
       "      <td>0.371887</td>\n",
       "      <td>5.995204e-17</td>\n",
       "      <td>0.339736</td>\n",
       "    </tr>\n",
       "    <tr>\n",
       "      <th>126</th>\n",
       "      <td>-2.856453e-16</td>\n",
       "      <td>25.104154</td>\n",
       "      <td>0.000000e+00</td>\n",
       "      <td>2.584075</td>\n",
       "      <td>3.570567e-17</td>\n",
       "      <td>2.295502</td>\n",
       "      <td>2.499397e-16</td>\n",
       "      <td>1.389252</td>\n",
       "      <td>2.332026e-16</td>\n",
       "      <td>0.910935</td>\n",
       "      <td>-6.248491e-17</td>\n",
       "      <td>0.657869</td>\n",
       "      <td>-1.919179e-16</td>\n",
       "      <td>0.488366</td>\n",
       "      <td>-1.495175e-16</td>\n",
       "      <td>0.402507</td>\n",
       "      <td>-4.351628e-17</td>\n",
       "      <td>0.303192</td>\n",
       "      <td>1.160434e-16</td>\n",
       "      <td>0.272445</td>\n",
       "    </tr>\n",
       "  </tbody>\n",
       "</table>\n",
       "<p>127 rows × 20 columns</p>\n",
       "</div>"
      ],
      "text/plain": [
       "               0          1             2         3             4         5   \\\n",
       "0    7.105427e-17  32.846442 -1.865175e-16  3.895003 -1.776357e-17  1.636667   \n",
       "1   -2.398082e-16  12.129902 -1.421085e-16  6.945776 -1.065814e-16  6.011744   \n",
       "2    2.164090e-16  19.817826 -3.787157e-16  1.841662  3.606816e-16  1.086711   \n",
       "3    2.131628e-16  24.190847 -1.243450e-16  1.378359 -3.552714e-17  1.112579   \n",
       "4   -3.095167e-16  23.694344  3.588600e-17  1.842471  1.906444e-16  1.302764   \n",
       "..            ...        ...           ...       ...           ...       ...   \n",
       "122 -5.355850e-16  20.542000 -2.856453e-16  1.551869  1.249698e-16  0.691720   \n",
       "123 -1.450087e-16  22.714007 -7.250436e-17  0.357538  3.965082e-17  0.070203   \n",
       "124 -1.785283e-16  15.288692 -1.785283e-16  1.058375  1.562123e-16  0.660979   \n",
       "125 -1.421085e-16  35.387977  8.881784e-18  3.365012 -1.776357e-17  1.741263   \n",
       "126 -2.856453e-16  25.104154  0.000000e+00  2.584075  3.570567e-17  2.295502   \n",
       "\n",
       "               6         7             8         9             10        11  \\\n",
       "0    3.463896e-16  1.325940 -3.552714e-17  1.021010 -7.216450e-17  0.613142   \n",
       "1   -1.598721e-16  1.729823  0.000000e+00  1.428150  1.332268e-17  0.862343   \n",
       "2   -1.938664e-16  0.719824  3.606816e-17  0.422886  1.442726e-16  0.280780   \n",
       "3    8.604228e-17  0.564226 -1.154632e-16  0.354600 -9.325873e-17  0.167531   \n",
       "4    1.973730e-16  0.792529  6.728624e-17  0.602834 -1.872800e-16  0.475161   \n",
       "..            ...       ...           ...       ...           ...       ...   \n",
       "122  2.343184e-17  0.188400  1.525859e-16  0.140806  4.206574e-16  0.131624   \n",
       "123 -5.140446e-17  0.044883 -1.336799e-16  0.015022 -2.101494e-16  0.010321   \n",
       "124  2.186972e-16  0.330992 -8.033775e-17  0.275713  2.231604e-16  0.206348   \n",
       "125  6.217249e-17  1.485274  1.065814e-16  0.825351 -5.551115e-17  0.690933   \n",
       "126  2.499397e-16  1.389252  2.332026e-16  0.910935 -6.248491e-17  0.657869   \n",
       "\n",
       "               12        13            14        15            16        17  \\\n",
       "0   -1.798561e-16  0.558792 -2.220446e-16  0.436230 -3.552714e-16  0.423309   \n",
       "1   -1.376677e-16  0.586690 -1.065814e-16  0.525981  5.773160e-17  0.367125   \n",
       "2    4.508520e-17  0.237463 -2.254260e-17  0.137688 -1.532897e-16  0.080740   \n",
       "3    8.881784e-17  0.138405  1.909584e-16  0.079842 -3.663736e-17  0.045023   \n",
       "4   -1.928872e-16  0.318926  1.076580e-16  0.296571  1.884015e-16  0.223037   \n",
       "..            ...       ...           ...       ...           ...       ...   \n",
       "122 -1.389174e-16  0.078284  5.899803e-17  0.029014  3.347406e-18  0.014260   \n",
       "123 -2.209117e-17  0.006700 -3.200388e-17  0.004929 -9.091367e-17  0.003408   \n",
       "124  1.115802e-18  0.143673 -2.499397e-16  0.130936  4.463208e-17  0.093081   \n",
       "125 -2.953193e-16  0.599731  2.220446e-17  0.440756 -2.220446e-17  0.371887   \n",
       "126 -1.919179e-16  0.488366 -1.495175e-16  0.402507 -4.351628e-17  0.303192   \n",
       "\n",
       "               18        19  \n",
       "0   -1.332268e-17  0.319534  \n",
       "1   -3.330669e-17  0.338598  \n",
       "2   -1.803408e-16  0.067111  \n",
       "3   -3.552714e-17  0.037889  \n",
       "4    1.300867e-16  0.185024  \n",
       "..            ...       ...  \n",
       "122 -7.587454e-17  0.011303  \n",
       "123  2.664040e-18  0.002523  \n",
       "124  4.909529e-17  0.057816  \n",
       "125  5.995204e-17  0.339736  \n",
       "126  1.160434e-16  0.272445  \n",
       "\n",
       "[127 rows x 20 columns]"
      ]
     },
     "execution_count": 6,
     "metadata": {},
     "output_type": "execute_result"
    }
   ],
   "source": [
    "feature_df"
   ]
  },
  {
   "cell_type": "markdown",
   "id": "96a25cf5",
   "metadata": {},
   "source": [
    "# Train SVM model"
   ]
  },
  {
   "cell_type": "code",
   "execution_count": 28,
   "id": "1ae534f5",
   "metadata": {
    "ExecuteTime": {
     "end_time": "2023-04-13T09:16:00.055084Z",
     "start_time": "2023-04-13T09:16:00.028497Z"
    }
   },
   "outputs": [
    {
     "name": "stdout",
     "output_type": "stream",
     "text": [
      "[0.98, 1.0, 0.9285714285714286, 0.962962962962963]\n"
     ]
    }
   ],
   "source": [
    "## load feature\n",
    "static = pd.read_csv('/Users/wanrylin/Master Programme/dataset/movement detection/static/all_feature.csv')\n",
    "dynamic = pd.read_csv('/Users/wanrylin/Master Programme/dataset/movement detection/dynamic/all_feature.csv')\n",
    "svm_folder = '/Users/wanrylin/Master Programme/dataset/movement detection/svm_model'\n",
    "static_array = static.values\n",
    "dynamic_array = dynamic.values\n",
    "feature_num = 2\n",
    "dimension_num = 10\n",
    "performance = np.zeros((dimension_num,4))\n",
    "contribution = np.zeros((dimension_num,feature_num))\n",
    "\n",
    "# generate data set and label\n",
    "static_feature = static_array[:,:]\n",
    "static_label = np.zeros((len(static_feature),1))\n",
    "dynamic_feature = dynamic_array[:,:]\n",
    "dynamic_label = np.ones((len(dynamic_feature),1))\n",
    "data = np.concatenate((static_feature,dynamic_feature),axis = 0)\n",
    "label = np.ravel(np.concatenate((static_label,dynamic_label),axis = 0))\n",
    "# Split data into training and testing sets\n",
    "X_train, X_test, y_train, y_test = train_test_split(data, label, test_size=0.3, random_state=42)\n",
    "# Create an instance of StandardScaler\n",
    "scaler = StandardScaler()\n",
    "# Fit the scaler to the data and transform it\n",
    "X_train_scaled = scaler.fit_transform(X_train)\n",
    "X_test_scaled = scaler.transform(X_test)\n",
    "\n",
    "# Train SVM\n",
    "svc = SVC(kernel='linear', C=0.1)\n",
    "svc.fit(X_train_scaled, y_train)\n",
    "\n",
    "# Predict labels of test set\n",
    "y_pred = svc.predict(X_test_scaled)\n",
    "\n",
    "# verify the performance\n",
    "Accuracy = accuracy_score(y_test, y_pred)\n",
    "Precision = precision_score(y_test, y_pred)\n",
    "Recall = recall_score(y_test, y_pred)\n",
    "F1_score = f1_score(y_test, y_pred)\n",
    "print([Accuracy,Precision,Recall,F1_score])\n",
    "# contribution = abs(svc.coef_[0])\n",
    "# print(contribution.argsort())\n",
    "# print(np.sort(contribution))"
   ]
  },
  {
   "cell_type": "code",
   "execution_count": 20,
   "id": "44526f01",
   "metadata": {
    "ExecuteTime": {
     "end_time": "2023-04-07T08:05:06.800953Z",
     "start_time": "2023-04-07T08:05:06.760279Z"
    }
   },
   "outputs": [
    {
     "name": "stdout",
     "output_type": "stream",
     "text": [
      "[0.9533333333333334, 0.9069767441860465, 0.9285714285714286, 0.9176470588235294]\n"
     ]
    }
   ],
   "source": [
    "from sklearn.ensemble import RandomForestClassifier\n",
    "\n",
    "# Train RM\n",
    "rm = RandomForestClassifier(n_estimators=20, max_depth=5, random_state=42)\n",
    "rm.fit(X_train_scaled, y_train)\n",
    "\n",
    "# Predict labels of test set\n",
    "y_pred = rm.predict(X_test_scaled)\n",
    "\n",
    "# verify the performance\n",
    "Accuracy = accuracy_score(y_test, y_pred)\n",
    "Precision = precision_score(y_test, y_pred)\n",
    "Recall = recall_score(y_test, y_pred)\n",
    "F1_score = f1_score(y_test, y_pred)\n",
    "print([Accuracy,Precision,Recall,F1_score])"
   ]
  },
  {
   "cell_type": "code",
   "execution_count": 22,
   "id": "f028761f",
   "metadata": {
    "ExecuteTime": {
     "end_time": "2023-04-07T08:06:43.189604Z",
     "start_time": "2023-04-07T08:06:43.168530Z"
    }
   },
   "outputs": [
    {
     "name": "stdout",
     "output_type": "stream",
     "text": [
      "[0.9333333333333333, 0.8809523809523809, 0.8809523809523809, 0.8809523809523809]\n"
     ]
    }
   ],
   "source": [
    "from sklearn.neighbors import KNeighborsClassifier\n",
    "\n",
    "# Train KNN\n",
    "knn = KNeighborsClassifier(n_neighbors=5)\n",
    "knn.fit(X_train_scaled, y_train)\n",
    "\n",
    "# Predict labels of test set\n",
    "y_pred = knn.predict(X_test_scaled)\n",
    "\n",
    "# verify the performance\n",
    "Accuracy = accuracy_score(y_test, y_pred)\n",
    "Precision = precision_score(y_test, y_pred)\n",
    "Recall = recall_score(y_test, y_pred)\n",
    "F1_score = f1_score(y_test, y_pred)\n",
    "print([Accuracy,Precision,Recall,F1_score])"
   ]
  },
  {
   "cell_type": "code",
   "execution_count": 24,
   "id": "2af167a9",
   "metadata": {
    "ExecuteTime": {
     "end_time": "2023-04-07T08:10:42.373345Z",
     "start_time": "2023-04-07T08:10:42.358768Z"
    }
   },
   "outputs": [
    {
     "name": "stdout",
     "output_type": "stream",
     "text": [
      "[0.9466666666666667, 0.9473684210526315, 0.8571428571428571, 0.9]\n"
     ]
    }
   ],
   "source": [
    "from sklearn.linear_model import LogisticRegression\n",
    "\n",
    "# Train LR\n",
    "# Create a logistic regression classifier\n",
    "lr = LogisticRegression(penalty='l2', C=0.1, solver='lbfgs', max_iter=500)\n",
    "lr.fit(X_train_scaled, y_train)\n",
    "\n",
    "# Predict labels of test set\n",
    "y_pred = lr.predict(X_test_scaled)\n",
    "\n",
    "# verify the performance\n",
    "Accuracy = accuracy_score(y_test, y_pred)\n",
    "Precision = precision_score(y_test, y_pred)\n",
    "Recall = recall_score(y_test, y_pred)\n",
    "F1_score = f1_score(y_test, y_pred)\n",
    "print([Accuracy,Precision,Recall,F1_score])"
   ]
  },
  {
   "cell_type": "code",
   "execution_count": 25,
   "id": "3c46a3bf",
   "metadata": {
    "ExecuteTime": {
     "end_time": "2023-04-07T08:12:18.900954Z",
     "start_time": "2023-04-07T08:12:18.884759Z"
    }
   },
   "outputs": [
    {
     "name": "stdout",
     "output_type": "stream",
     "text": [
      "[0.9466666666666667, 0.8863636363636364, 0.9285714285714286, 0.9069767441860465]\n"
     ]
    }
   ],
   "source": [
    "from sklearn.naive_bayes import GaussianNB\n",
    "\n",
    "# Train NB\n",
    "gnb = GaussianNB()\n",
    "gnb.fit(X_train_scaled, y_train)\n",
    "\n",
    "# Predict labels of test set\n",
    "y_pred = gnb.predict(X_test_scaled)\n",
    "\n",
    "# verify the performance\n",
    "Accuracy = accuracy_score(y_test, y_pred)\n",
    "Precision = precision_score(y_test, y_pred)\n",
    "Recall = recall_score(y_test, y_pred)\n",
    "F1_score = f1_score(y_test, y_pred)\n",
    "print([Accuracy,Precision,Recall,F1_score])"
   ]
  },
  {
   "cell_type": "code",
   "execution_count": 8,
   "id": "71a1c8ea",
   "metadata": {
    "ExecuteTime": {
     "end_time": "2023-04-06T12:04:11.348273Z",
     "start_time": "2023-04-06T12:04:11.241915Z"
    }
   },
   "outputs": [
    {
     "data": {
      "image/png": "[encoded data removed]",
      "text/plain": [
       "<Figure size 640x480 with 2 Axes>"
      ]
     },
     "metadata": {},
     "output_type": "display_data"
    }
   ],
   "source": [
    "# Compute the confusion matrix\n",
    "cm = confusion_matrix(y_test, y_pred)\n",
    "# Display the confusion matrix as an image\n",
    "fig, ax = plt.subplots()\n",
    "im = ax.imshow(cm, cmap='Blues')\n",
    "ax.set_title('Confusion matrix')\n",
    "fig.colorbar(im)\n",
    "tick_marks = np.arange(2)\n",
    "ax.set_xticks(tick_marks)\n",
    "ax.set_yticks(tick_marks)\n",
    "target_names = ['moving','static']\n",
    "ax.set_xticklabels(target_names)\n",
    "ax.set_yticklabels(target_names)\n",
    "ax.set_xlabel('Predicted label')\n",
    "ax.set_ylabel('True label')\n",
    "# Display the numbers of predicted label in the confusion matrix\n",
    "thresh = cm.max() / 2.\n",
    "for i in range(cm.shape[0]):\n",
    "    for j in range(cm.shape[1]):\n",
    "        ax.text(j, i, format(cm[i, j], 'd'),\n",
    "                ha=\"center\", va=\"center\",\n",
    "                color=\"white\" if cm[i, j] > thresh else \"black\")\n",
    "\n",
    "plt.show()"
   ]
  },
  {
   "cell_type": "code",
   "execution_count": 69,
   "id": "55b63379",
   "metadata": {
    "ExecuteTime": {
     "end_time": "2023-04-07T16:55:12.761415Z",
     "start_time": "2023-04-07T16:55:12.648968Z"
    }
   },
   "outputs": [
    {
     "data": {
      "image/png": "[encoded data removed]",
      "text/plain": [
       "<Figure size 600x600 with 2 Axes>"
      ]
     },
     "metadata": {},
     "output_type": "display_data"
    },
    {
     "name": "stdout",
     "output_type": "stream",
     "text": [
      "\u001b[31mThe accuracy of the model is 98.00%\u001b[0m\n",
      "\u001b[31mThe GMean of the model is 96.36%\u001b[0m\n",
      "The recall of the model is 100.00%\n",
      "The precision of the model is 98.00%\n",
      "The F1 of the model is 98.99%\n"
     ]
    }
   ],
   "source": [
    "from matplotlib import rcParams\n",
    "from math import log\n",
    "from sklearn.metrics import confusion_matrix\n",
    "import matplotlib.pyplot as plt\n",
    "# plot confusion matrix\n",
    "def confusion_m(predicted, true,person):\n",
    "    \n",
    "    # generate confusion matrix\n",
    "    cm = confusion_matrix(true,predicted, labels = person)\n",
    "#     person = [0,1,2,3,4]\n",
    "    \n",
    "    # get proportion of every grid\n",
    "    proportion=[]\n",
    "    for i in cm:\n",
    "        for j in i:\n",
    "            temp=j/(np.sum(i))\n",
    "            proportion.append(temp)\n",
    "\n",
    "    # generate the percentage\n",
    "    percentage=[]\n",
    "    for i in proportion:\n",
    "        pt=\"%.2f%%\" % (i * 100)\n",
    "        percentage.append(pt)\n",
    "        \n",
    "    proportion=np.array(proportion).reshape(len(person),len(person))  \n",
    "    percentage=np.array(percentage).reshape(len(person),len(person))\n",
    "    \n",
    "    # set the font\n",
    "    config = {\"font.family\":'Arial'}\n",
    "    rcParams.update(config)\n",
    "    \n",
    "    #\n",
    "    # plot the confusion matrix\n",
    "    #\n",
    "    fs = int( 9 / log(len(person),10) )\n",
    "    fig = plt.figure( figsize=(6,6) )\n",
    "    plt.imshow(proportion, interpolation='nearest', cmap=plt.cm.Blues)  \n",
    "                # ('Greys', 'Purples', 'Blues', 'Greens', 'Oranges', 'Reds','YlOrBr', 'YlOrRd',\n",
    "                # 'OrRd', 'PuRd', 'RdPu', 'BuPu','GnBu', 'PuBu', 'YlGnBu', 'PuBuGn', 'BuGn', 'YlGn')\n",
    "    plt.title('Confusion Matrix',fontsize='xx-large',fontweight='heavy')\n",
    "    plt.colorbar()\n",
    "    tick_marks = np.arange(len(person))\n",
    "    plt.xticks(tick_marks, person,fontsize = 'xx-large')\n",
    "    plt.yticks(tick_marks, person,fontsize = 'xx-large')\n",
    "\n",
    "    # plot the percentage\n",
    "    thresh = cm.max() / 2.\n",
    "    iters = np.reshape([[[i,j] for j in range(len(person))] for i in range(len(person))],(cm.size,2))\n",
    "    for i, j in iters:\n",
    "        if(i==j):\n",
    "#             plt.text(j, i - 0.12, format(cm[i, j]), va='center', ha='center',color='white',weight=5,fontsize=fs)  \n",
    "            plt.text(j, i + 0.12, percentage[i, j], va='center', ha='center',color='white',fontsize=fs)\n",
    "        else:\n",
    "#             plt.text(j, i-0.12, format(cm[i, j]),va='center',ha='center',fontsize=fs)   \n",
    "            plt.text(j, i+0.12, percentage[i, j], va='center', ha='center',fontsize=fs)\n",
    "\n",
    "    plt.ylabel('True label',fontsize=16)\n",
    "    plt.xlabel('Predict label',fontsize=16)\n",
    "    plt.tight_layout()\n",
    "    plt.show()\n",
    "    \n",
    "    total = len(predicted)\n",
    "    # calculate accuarcy\n",
    "    TP_m = np.sum(cm * np.eye(len(person)).astype(int),axis = 1)\n",
    "    TP = np.sum(TP_m)\n",
    "    accuracy = np.sum(TP_m) / total \n",
    "    print('\\033[31mThe accuracy of the model is %.2f%%\\033[0m' % (accuracy * 100))\n",
    "    \n",
    "    # calculate GMean\n",
    "    gm = np.sqrt(np.prod([cm.diagonal()/np.sum(cm, axis=1)]))\n",
    "    print('\\033[31mThe GMean of the model is %.2f%%\\033[0m' % (gm * 100))\n",
    "    \n",
    "    # calculate recall\n",
    "    FN = np.sum(np.triu(cm, k = 1))\n",
    "    recall = TP / ( TP + FN )\n",
    "    print('The recall of the model is %.2f%%' % (recall * 100))\n",
    "    \n",
    "    # calculate precision\n",
    "    FP = np.sum(np.tril(cm, k = -1))\n",
    "    precision = TP / ( TP + FP )\n",
    "    print('The precision of the model is %.2f%%' % (precision * 100))\n",
    "    \n",
    "    # calculate F1\n",
    "    F1 = 2 * recall * precision / ( recall + precision )\n",
    "    print('The F1 of the model is %.2f%%' % (F1 * 100))\n",
    "\n",
    "Motion_label = ['static','moving']\n",
    "pred_label = [Motion_label[int(x)] for x in y_pred]\n",
    "true_label = [Motion_label[int(x)] for x in y_test]\n",
    "\n",
    "confusion_m(pred_label, true_label,Motion_label)"
   ]
  },
  {
   "cell_type": "code",
   "execution_count": 12,
   "id": "5fc1a914",
   "metadata": {
    "ExecuteTime": {
     "end_time": "2023-04-06T12:05:47.237232Z",
     "start_time": "2023-04-06T12:05:47.230679Z"
    }
   },
   "outputs": [
    {
     "data": {
      "text/plain": [
       "array([1., 0., 0., 0., 0., 1., 0., 0., 0., 0., 0., 0., 0., 0., 0., 1., 1.,\n",
       "       0., 0., 1., 0., 0., 1., 0., 0., 0., 0., 1., 0., 0., 1., 0., 0., 0.,\n",
       "       0., 0., 0., 0., 1., 0., 0., 1., 0., 0., 0., 0., 0., 0., 0., 0., 0.,\n",
       "       1., 1., 0., 0., 0., 1., 0., 1., 0., 1., 0., 1., 0., 0., 0., 1., 0.,\n",
       "       1., 0., 1., 0., 0., 0., 0., 0., 0., 0., 0., 1., 0., 1., 0., 1., 0.,\n",
       "       0., 0., 1., 0., 0., 1., 0., 0., 1., 0., 0., 1., 0., 0., 0., 0., 0.,\n",
       "       0., 0., 0., 1., 1., 1., 0., 0., 0., 1., 0., 0., 1., 0., 0., 1., 0.,\n",
       "       0., 1., 1., 0., 0., 0., 0., 0., 0., 0., 0., 1., 0., 0., 0., 0., 0.,\n",
       "       0., 1., 1., 0., 0., 1., 0., 0., 1., 0., 0., 0., 0., 0.])"
      ]
     },
     "execution_count": 12,
     "metadata": {},
     "output_type": "execute_result"
    }
   ],
   "source": [
    "y_pred"
   ]
  },
  {
   "cell_type": "markdown",
   "id": "a18390dc",
   "metadata": {},
   "source": [
    "# store SVM model"
   ]
  },
  {
   "cell_type": "code",
   "execution_count": 109,
   "id": "9d90a4d3",
   "metadata": {
    "ExecuteTime": {
     "end_time": "2023-03-10T11:57:28.601167Z",
     "start_time": "2023-03-10T11:57:28.588309Z"
    }
   },
   "outputs": [
    {
     "data": {
      "text/plain": [
       "['/Users/wanrylin/Master Programme/dataset/movement detection/svm_model/pca_svm_model.joblib']"
      ]
     },
     "execution_count": 109,
     "metadata": {},
     "output_type": "execute_result"
    }
   ],
   "source": [
    "# Save the trained SVM model and scaler model\n",
    "filename = svm_folder + '/pca_scaler.joblib'\n",
    "joblib.dump(scaler, filename)\n",
    "filename = svm_folder + '/pca_svm_model.joblib'\n",
    "joblib.dump(svc, filename)"
   ]
  },
  {
   "cell_type": "markdown",
   "id": "119c2db3",
   "metadata": {},
   "source": [
    "# Test the SVM in original CSI sequence\n",
    "try to find the start and end of the movement"
   ]
  },
  {
   "cell_type": "code",
   "execution_count": 28,
   "id": "79616981",
   "metadata": {
    "ExecuteTime": {
     "end_time": "2023-04-03T13:59:10.137187Z",
     "start_time": "2023-04-03T13:59:10.133537Z"
    }
   },
   "outputs": [],
   "source": [
    "moving_num = 0"
   ]
  },
  {
   "cell_type": "code",
   "execution_count": 47,
   "id": "98918f69",
   "metadata": {
    "ExecuteTime": {
     "end_time": "2023-04-03T14:00:25.997185Z",
     "start_time": "2023-04-03T14:00:25.631339Z"
    }
   },
   "outputs": [
    {
     "name": "stderr",
     "output_type": "stream",
     "text": [
      "/Users/wanrylin/miniconda3/envs/tensorflow/lib/python3.10/site-packages/sklearn/base.py:318: UserWarning: Trying to unpickle estimator SVC from version 1.1.3 when using version 1.2.2. This might lead to breaking code or invalid results. Use at your own risk. For more info please refer to:\n",
      "https://scikit-learn.org/stable/model_persistence.html#security-maintainability-limitations\n",
      "  warnings.warn(\n",
      "/Users/wanrylin/miniconda3/envs/tensorflow/lib/python3.10/site-packages/sklearn/base.py:318: UserWarning: Trying to unpickle estimator StandardScaler from version 1.1.3 when using version 1.2.2. This might lead to breaking code or invalid results. Use at your own risk. For more info please refer to:\n",
      "https://scikit-learn.org/stable/model_persistence.html#security-maintainability-limitations\n",
      "  warnings.warn(\n"
     ]
    }
   ],
   "source": [
    "#1. load CSI data and SVM model\n",
    "svm_folder = '/Users/wanrylin/Master Programme/dataset/movement detection/svm_model'\n",
    "bkbg_folder = '/Users/wanrylin/Master Programme/dataset/original data/blankbackground'\n",
    "movement_folder = '/Users/wanrylin/Master Programme/dataset/original data/movement'\n",
    "movement_listpath = os.listdir(movement_folder)\n",
    "# load svm model\n",
    "filename = svm_folder + '/pca_svm_model.joblib'\n",
    "svm = joblib.load(filename)\n",
    "filename = svm_folder + '/pca_scaler.joblib'\n",
    "scaler = joblib.load(filename)\n",
    "# Load the csi sequence\n",
    "# filename = bkbg_folder + '/bkbg2.csv'\n",
    "filename = movement_folder + '/' + movement_listpath[moving_num]\n",
    "CSIdata = pd.read_csv(filename)\n",
    "CSI_array = CSIdata.values\n",
    "time_sequence = CSI_array[1:,0]\n",
    "csi_data_str = CSI_array[1:,1:]\n",
    "# change str into complex\n",
    "csi_data = np.zeros_like(csi_data_str, dtype=np.complex64)\n",
    "[row,col] = csi_data_str.shape\n",
    "for i in range(row):\n",
    "    for j in range(col):\n",
    "        element = csi_data_str[i,j]\n",
    "        element = element.replace('i', 'j')\n",
    "        csi_data[i,j] = complex(element)\n",
    "\n",
    "#2. revise CSI data\n",
    "#(a) adjust time sequence that make the time sequence number in order\n",
    "peak = [ time_sequence[t] for t in range(1,len(time_sequence)-1) if time_sequence[t] > time_sequence[t-1] and time_sequence[t] > time_sequence[t+1]]\n",
    "peak = []\n",
    "for i in range(1,len(time_sequence)-1):\n",
    "    if time_sequence[i] > time_sequence[i-1] and time_sequence[i] > time_sequence[i+1]:\n",
    "        peak.append(i)\n",
    "for position in peak:\n",
    "    time_sequence[int(position+1):] += 4096 \n",
    "time_sequence -= (time_sequence[0]-1)\n",
    "# check time sequence is it in order\n",
    "flag = 0\n",
    "for i in range(1,len(time_sequence)-1):\n",
    "    if time_sequence[i] < time_sequence[i-1]: \n",
    "        flag = 1\n",
    "        print(\"the %d in time sequence not in order\",i)\n",
    "        break\n",
    "#(b) phase correction from [IndoTrack]\n",
    "rx1 = csi_data[:,:57]\n",
    "rx2 = csi_data[:,57:]\n",
    "csi_data_adj = np.zeros(rx1.shape, dtype=complex)\n",
    "csi_data_ref_adj = np.zeros(rx2.shape, dtype=complex)\n",
    "alpha_sum = 0\n",
    "for jj in range(57):\n",
    "    amp = np.abs(rx1[:,jj])\n",
    "    alpha = np.min(amp[amp!=0])\n",
    "    alpha_sum = alpha_sum + alpha\n",
    "    csi_data_adj[:,jj] = np.abs(np.abs(rx1[:,jj]) - alpha) * np.exp(1j * np.angle(rx1[:,jj]))\n",
    "beta = 5000 * alpha_sum / 57 # 5000 is an experience value, it just need to be large enough\n",
    "for jj in range(57):\n",
    "    csi_data_ref_adj[:,jj] = (np.abs(rx2[:,jj]) + beta) * np.exp(1j * np.angle(rx2[:,jj]))\n",
    "# Conjunction Multiply\n",
    "conj_mult = csi_data_adj * np.conj(csi_data_ref_adj)\n",
    "csi_revised = np.zeros(conj_mult.shape, dtype=complex)\n",
    "for j in range(57):\n",
    "    for i in range(len(conj_mult)):\n",
    "        z = conj_mult[i,j]\n",
    "        if z.imag < 0:\n",
    "            csi_revised[i,j] = -1 * z.real + (-1j) * z.imag\n",
    "        else:\n",
    "            csi_revised[i,j] = z           \n",
    "csi_phase = np.angle(csi_revised)\n",
    "csi_amp = np.abs(csi_revised)\n",
    "\n",
    "#3. movement period detection\n",
    "feature_num = 2\n",
    "dimension_num = 10\n",
    "# cut the csi sequence into frame with 1 second long and 0.5 interval\n",
    "sampling_rate = 200 # Hz\n",
    "frame_length = 1 # second\n",
    "frame = frame_length * sampling_rate\n",
    "interval_length = 0.5 # second\n",
    "interval = interval_length * sampling_rate\n",
    "time_sequence = list(time_sequence)\n",
    "num = int((time_sequence[-1] - frame)/interval + 1) # number of frames\n",
    "start = 0 # initial boundry\n",
    "end = 150\n",
    "labels = np.zeros((num,))\n",
    "colors = list(np.zeros((len(csi_amp))))\n",
    "# prediction for each frame\n",
    "for i in range(num):\n",
    "    #1. generate frame\n",
    "    if (i * interval + 1) in time_sequence:\n",
    "        start = int(time_sequence.index(i * interval + 1))\n",
    "    else:\n",
    "        start_time = np.min([x for x in time_sequence[start:start + 200] if x > (i * interval + 1)])\n",
    "        start = int(time_sequence.index(start_time))\n",
    "    if (i * interval + frame + 1) in time_sequence or (i * interval + frame + 1) > time_sequence[-1]:\n",
    "        end = int(time_sequence.index(np.min([i * interval + frame + 1,time_sequence[-1]])))\n",
    "    else:\n",
    "        end_time = np.min([x for x in time_sequence[end:end + 200] if x > (i * interval + frame + 1)])\n",
    "        end = int(np.min([time_sequence.index(end_time),len(time_sequence)]))\n",
    "    csi_slice = csi_revised[start:end]\n",
    "    csi_time = np.array(time_sequence[start:end])\n",
    "    csi_time = csi_time - csi_time[0]\n",
    "    csi_time_sequence = np.hstack((np.matrix(csi_time).T,csi_slice))\n",
    "    phase = np.angle(csi_slice)\n",
    "\n",
    "    #2. Make predictions on the test set using the loaded model\n",
    "    #(a) create csi feature\n",
    "    # create a PCA object with 10 components\n",
    "    pca = PCA(dimension_num)\n",
    "    # fit the PCA object to the data and transform the data\n",
    "    phase_pca = pca.fit_transform(phase)\n",
    "    # iterate each component\n",
    "    feature_matrix = np.zeros((feature_num, dimension_num))\n",
    "    for j in range(dimension_num):\n",
    "        pha_mean = np.mean(phase_pca[:, j])\n",
    "        pha_var = np.var(phase_pca[:, j])\n",
    "        sub_feature = np.array([pha_mean, pha_var])\n",
    "        feature_matrix[:, j] = sub_feature\n",
    "    feature_matrix = feature_matrix.T\n",
    "    feature = feature_matrix.reshape(1,-1)   \n",
    "    #(b) scale the feature\n",
    "    feature_scaled = scaler.transform(feature)\n",
    "    #(c) predict label\n",
    "    pred_label = svm.predict(feature_scaled)   \n",
    "    #(e) store the label in labels\n",
    "    labels[i] = pred_label\n",
    "    # give the label to the points \n",
    "    if pred_label == 0:\n",
    "        for n in range(start,end):\n",
    "            colors[n] = 'b'\n",
    "    elif pred_label == 1:\n",
    "        for n in range(start,end):\n",
    "            colors[n] = 'r'\n",
    "    for n in range(end,len(colors)):\n",
    "        colors[n] = 'black'\n",
    "    \n",
    "    \n",
    "#(d) second check\n",
    "window = 5\n",
    "# add zeros to the beginning and end of the array\n",
    "pad_size = (window - 1) // 2\n",
    "padded_label = np.pad(labels, pad_size, mode='constant', constant_values=0)\n",
    "checked_label = np.copy(labels)\n",
    "for j in range(len(labels)):\n",
    "    label = labels[j]\n",
    "    if label == 0:\n",
    "        continue\n",
    "    elif label == 1:\n",
    "        nearby = padded_label[j:j+window]\n",
    "        nearby_sum = np.sum(nearby)\n",
    "        if nearby_sum == 1:\n",
    "            checked_label[j] = 0\n",
    "    \n",
    "\n",
    "# move to next CSI data\n",
    "# moving_num += 1"
   ]
  },
  {
   "cell_type": "markdown",
   "id": "816cc579",
   "metadata": {},
   "source": [
    "# Visualize the result"
   ]
  },
  {
   "cell_type": "code",
   "execution_count": 48,
   "id": "8bfedfb6",
   "metadata": {
    "ExecuteTime": {
     "end_time": "2023-04-03T14:00:27.394623Z",
     "start_time": "2023-04-03T14:00:27.228750Z"
    }
   },
   "outputs": [
    {
     "name": "stdout",
     "output_type": "stream",
     "text": [
      "[0. 1. 0. 0. 0. 0. 1. 1. 1. 0. 1. 1. 1. 1. 1. 1. 1. 0.]\n",
      "[0. 0. 0. 0. 0. 0. 1. 1. 1. 0. 1. 1. 1. 1. 1. 1. 1. 0.]\n"
     ]
    },
    {
     "data": {
      "image/png": "[encoded data removed]",
      "text/plain": [
       "<Figure size 640x480 with 2 Axes>"
      ]
     },
     "metadata": {},
     "output_type": "display_data"
    }
   ],
   "source": [
    "print(labels)\n",
    "print(checked_label)\n",
    "# show 18th subcarrier \n",
    "fig, (ax1, ax2) = plt.subplots(nrows=2, ncols=1)\n",
    "ax1.scatter(time_sequence, csi_phase[:,18],s = 1, c = colors)\n",
    "ax1.set_title(\"CSI phase\")\n",
    "ax2.scatter(time_sequence, csi_amp[:,18],s = 1,c = colors)\n",
    "ax2.set_title(\"CSI amplitude\")\n",
    "fig.subplots_adjust(hspace=0.5)\n",
    "plt.show()"
   ]
  },
  {
   "cell_type": "code",
   "execution_count": 4,
   "id": "21c8ca24",
   "metadata": {
    "ExecuteTime": {
     "end_time": "2023-04-03T13:35:38.744603Z",
     "start_time": "2023-04-03T13:35:38.737601Z"
    }
   },
   "outputs": [
    {
     "data": {
      "text/plain": [
       "numpy.ndarray"
      ]
     },
     "execution_count": 4,
     "metadata": {},
     "output_type": "execute_result"
    }
   ],
   "source": [
    "type(pred_label)"
   ]
  },
  {
   "cell_type": "code",
   "execution_count": 6,
   "id": "798c259c",
   "metadata": {
    "ExecuteTime": {
     "end_time": "2023-04-03T13:40:08.100863Z",
     "start_time": "2023-04-03T13:40:08.089949Z"
    }
   },
   "outputs": [
    {
     "name": "stdout",
     "output_type": "stream",
     "text": [
      "[1.         2.         3.         4.         5.         6.\n",
      " 7.         8.         9.         6.33333333]\n"
     ]
    }
   ],
   "source": [
    "import numpy as np\n",
    "from numpy import convolve\n",
    "\n",
    "k = 3 # filter size\n",
    "\n",
    "# create a 1D array\n",
    "x = np.array([1, 2, 3, 4, 5, 6, 7, 8, 9, 10])\n",
    "\n",
    "# add zeros to the beginning and end of the array\n",
    "pad_size = (k - 1) // 2\n",
    "padded = np.pad(x, pad_size, mode='constant', constant_values=0)\n",
    "\n",
    "# define the filter kernel\n",
    "kernel = np.ones(k) / k\n",
    "\n",
    "# apply the mean filter\n",
    "smoothed = convolve(padded, kernel, mode='valid')\n",
    "\n",
    "print(smoothed)\n",
    "\n"
   ]
  },
  {
   "cell_type": "code",
   "execution_count": 46,
   "id": "6bd3acd0",
   "metadata": {
    "ExecuteTime": {
     "end_time": "2023-04-03T14:00:21.123918Z",
     "start_time": "2023-04-03T14:00:21.119983Z"
    }
   },
   "outputs": [],
   "source": [
    "moving_num +=1"
   ]
  },
  {
   "cell_type": "markdown",
   "id": "318a0ff8",
   "metadata": {},
   "source": [
    "# Test the svm in new data"
   ]
  },
  {
   "cell_type": "code",
   "execution_count": 1,
   "id": "d3f85f81",
   "metadata": {
    "ExecuteTime": {
     "end_time": "2023-04-14T17:07:47.242444Z",
     "start_time": "2023-04-14T17:07:47.221352Z"
    }
   },
   "outputs": [],
   "source": [
    "def CSIextracter(folder,motion):\n",
    "    #1. load CSI data and SVM model\n",
    "#     movement_folder = '/Users/wanrylin/Master Programme/dataset/original data/movement'\n",
    "#     folder = movement_folder\n",
    "#     motion = 'walk'\n",
    "    movement_listpath = os.listdir(folder)\n",
    "    movement_listpath = [x for x in movement_listpath if motion in x]\n",
    "    \n",
    "    CSI_amp = []\n",
    "    CSI_pha = []\n",
    "    Time = []\n",
    "    label = []\n",
    "    # Load the csi sequence\n",
    "    for moving_num in range(len(movement_listpath)):\n",
    "        filename = folder + '/' + movement_listpath[moving_num]\n",
    "        CSIdata = pd.read_csv(filename)\n",
    "        CSI_array = CSIdata.values\n",
    "        time_sequence = CSI_array[1:,0]\n",
    "        csi_data_str = CSI_array[1:,1:]\n",
    "        # change str into complex\n",
    "        csi_data = np.zeros_like(csi_data_str, dtype=np.complex64)\n",
    "        [row,col] = csi_data_str.shape\n",
    "        for i in range(row):\n",
    "            for j in range(col):\n",
    "                element = csi_data_str[i,j]\n",
    "                element = element.replace('i', 'j')\n",
    "                csi_data[i,j] = complex(element)\n",
    "\n",
    "        # revise time sequence\n",
    "        peak = [ time_sequence[t] for t in range(1,len(time_sequence)-1) if time_sequence[t] > time_sequence[t-1] and time_sequence[t] > time_sequence[t+1]]\n",
    "        peak = []\n",
    "        for i in range(1,len(time_sequence)-1):\n",
    "            if time_sequence[i] > time_sequence[i-1] and time_sequence[i] > time_sequence[i+1]:\n",
    "                peak.append(i)\n",
    "        for position in peak:\n",
    "            time_sequence[int(position+1):] += 4096 \n",
    "        time_sequence -= (time_sequence[0]-1)\n",
    "        # check time sequence is it in order\n",
    "        flag = 0\n",
    "        for i in range(1,len(time_sequence)-1):\n",
    "            if time_sequence[i] < time_sequence[i-1]: \n",
    "                flag = 1\n",
    "                print(\"the %d in time sequence not in order\",i)\n",
    "                break\n",
    "        Time.append(time_sequence)\n",
    "\n",
    "        # get amplitude data only\n",
    "        csi_amp = np.abs(csi_data)\n",
    "        CSI_amp.append(csi_amp)\n",
    "\n",
    "        # revise CSI phase data\n",
    "        # phase correction from [IndoTrack]\n",
    "        rx1 = csi_data[:,:57]\n",
    "        rx2 = csi_data[:,57:]\n",
    "        csi_data_adj = np.zeros(rx1.shape, dtype=complex)\n",
    "        csi_data_ref_adj = np.zeros(rx2.shape, dtype=complex)\n",
    "        alpha_sum = 0\n",
    "        for jj in range(57):\n",
    "            amp = np.abs(rx1[:,jj])\n",
    "            alpha = np.min(amp[amp!=0])\n",
    "            alpha_sum = alpha_sum + alpha\n",
    "            csi_data_adj[:,jj] = np.abs(np.abs(rx1[:,jj]) - alpha) * np.exp(1j * np.angle(rx1[:,jj]))\n",
    "        beta = 5000 * alpha_sum / 57 # 5000 is an experience value, it just need to be large enough\n",
    "        for jj in range(57):\n",
    "            csi_data_ref_adj[:,jj] = (np.abs(rx2[:,jj]) + beta) * np.exp(1j * np.angle(rx2[:,jj]))\n",
    "        # Conjunction Multiply\n",
    "        conj_mult = csi_data_adj * np.conj(csi_data_ref_adj)\n",
    "        csi_revised = np.zeros(conj_mult.shape, dtype=complex)\n",
    "        for j in range(57):\n",
    "            for i in range(len(conj_mult)):\n",
    "                z = conj_mult[i,j]\n",
    "                if z.imag < 0:\n",
    "                    csi_revised[i,j] = -1 * z.real + (-1j) * z.imag\n",
    "                else:\n",
    "                    csi_revised[i,j] = z           \n",
    "        csi_phase = np.angle(csi_revised)\n",
    "        CSI_pha.append(csi_phase)\n",
    "        \n",
    "        # generate the label for the motion\n",
    "        file_name = os.path.basename(filename)\n",
    "        name_list = file_name.split('_')\n",
    "        if len(name_list) > 1:\n",
    "            name_list = name_list[:-1]\n",
    "            motion_label = '_'.join(name_list)\n",
    "        else:\n",
    "            motion_label = name_list[0]\n",
    "        label.append(motion_label)\n",
    "        \n",
    "    return CSI_amp,CSI_pha,Time,label"
   ]
  },
  {
   "cell_type": "code",
   "execution_count": 2,
   "id": "b5a17e26",
   "metadata": {
    "ExecuteTime": {
     "end_time": "2023-04-14T17:07:48.246325Z",
     "start_time": "2023-04-14T17:07:48.227633Z"
    }
   },
   "outputs": [],
   "source": [
    "def feature_generater(CSI_pha,Time):\n",
    "    \n",
    "    svm_folder = '/Users/wanrylin/Master Programme/dataset/movement detection/svm_model'\n",
    "    # load svm model\n",
    "    filename = svm_folder + '/pca_svm_model.joblib'\n",
    "    svm = joblib.load(filename)\n",
    "    filename = svm_folder + '/pca_scaler.joblib'\n",
    "    scaler = joblib.load(filename)\n",
    "    #3. movement period detection\n",
    "    feature_num = 2\n",
    "    dimension_num = 10\n",
    "    # cut the csi sequence into frame with 1 second long and 0.5 interval\n",
    "    sampling_rate = 200 # Hz\n",
    "    frame_length = 1 # second\n",
    "    frame = frame_length * sampling_rate\n",
    "    interval_length = 0.5 # second\n",
    "    interval = interval_length * sampling_rate\n",
    "    \n",
    "    # detection\n",
    "    all_feature = np.zeros((1,20))\n",
    "    for k in range(len(Time)):\n",
    "        csi_phase = CSI_pha[k]\n",
    "        time_sequence = Time[k]\n",
    "        time_sequence = list(time_sequence)\n",
    "        num = int((time_sequence[-1] - frame)/interval + 1) # number of frames\n",
    "        start = 0 # initial boundry\n",
    "        end = 150\n",
    "        labels = np.zeros((len(time_sequence),))\n",
    "        # prediction for each frame\n",
    "        for i in range(num):\n",
    "            #1. generate frame\n",
    "            if (i * interval + 1) in time_sequence:\n",
    "                start = int(time_sequence.index(i * interval + 1))\n",
    "            else:\n",
    "                start_time = np.min([x for x in time_sequence[start:start + 200] if x > (i * interval + 1)])\n",
    "                start = int(time_sequence.index(start_time))\n",
    "            if (i * interval + frame + 1) in time_sequence or (i * interval + frame + 1) > time_sequence[-1]:\n",
    "                end = int(time_sequence.index(np.min([i * interval + frame + 1,time_sequence[-1]])))\n",
    "            else:\n",
    "                end_time = np.min([x for x in time_sequence[end:end + 200] if x > (i * interval + frame + 1)])\n",
    "                end = int(np.min([time_sequence.index(end_time),len(time_sequence)]))\n",
    "            phase = csi_phase[start:end]\n",
    "\n",
    "            #2. Make predictions on the test set using the loaded model\n",
    "            #(a) create csi feature\n",
    "            # create a PCA object with 10 components\n",
    "            pca = PCA(dimension_num)\n",
    "            # fit the PCA object to the data and transform the data\n",
    "            phase_pca = pca.fit_transform(phase)\n",
    "            # iterate each component\n",
    "            feature_matrix = np.zeros((feature_num, dimension_num))\n",
    "            for j in range(dimension_num):\n",
    "                pha_mean = np.mean(phase_pca[:, j])\n",
    "                pha_var = np.var(phase_pca[:, j])\n",
    "                sub_feature = np.array([pha_mean, pha_var])\n",
    "                feature_matrix[:, j] = sub_feature\n",
    "            feature_matrix = feature_matrix.T\n",
    "            feature = feature_matrix.reshape(1,-1)   \n",
    "            #(b) scale the feature\n",
    "            feature_scaled = scaler.transform(feature)\n",
    "#             #(c) predict label\n",
    "#             pred_label = svm.predict(feature_scaled)\n",
    "#             #(d) store the label in labels\n",
    "#             if pred_label == 1:\n",
    "#                 for n in range(start,end):\n",
    "#                     labels[n] = 1\n",
    "\n",
    "            all_feature = np.concatenate((all_feature, feature_scaled), axis=0)\n",
    "\n",
    "    # save all feature\n",
    "    all_feature = all_feature[1:, :]\n",
    "        \n",
    "    return all_feature"
   ]
  },
  {
   "cell_type": "code",
   "execution_count": 3,
   "id": "b2a8318d",
   "metadata": {
    "ExecuteTime": {
     "end_time": "2023-04-14T17:07:56.680096Z",
     "start_time": "2023-04-14T17:07:49.974227Z"
    }
   },
   "outputs": [
    {
     "name": "stderr",
     "output_type": "stream",
     "text": [
      "/Users/wanrylin/miniconda3/envs/tensorflow/lib/python3.10/site-packages/sklearn/base.py:318: UserWarning: Trying to unpickle estimator SVC from version 1.1.3 when using version 1.2.2. This might lead to breaking code or invalid results. Use at your own risk. For more info please refer to:\n",
      "https://scikit-learn.org/stable/model_persistence.html#security-maintainability-limitations\n",
      "  warnings.warn(\n",
      "/Users/wanrylin/miniconda3/envs/tensorflow/lib/python3.10/site-packages/sklearn/base.py:318: UserWarning: Trying to unpickle estimator StandardScaler from version 1.1.3 when using version 1.2.2. This might lead to breaking code or invalid results. Use at your own risk. For more info please refer to:\n",
      "https://scikit-learn.org/stable/model_persistence.html#security-maintainability-limitations\n",
      "  warnings.warn(\n"
     ]
    }
   ],
   "source": [
    "import pandas as pd\n",
    "import numpy as np\n",
    "import os\n",
    "\n",
    "movement_folder = '/Users/wanrylin/Master Programme/dataset/original data/test/walking'\n",
    "Motion = 'walk'\n",
    "CSI_amp,CSI_pha,Time_sequence,motion_label = CSIextracter(movement_folder,Motion)\n",
    "\n",
    "import joblib\n",
    "from sklearn.decomposition import PCA\n",
    "\n",
    "Feature_walk = feature_generater(CSI_pha,Time_sequence)\n",
    "label_walk = np.ones((len(Feature_walk,)))"
   ]
  },
  {
   "cell_type": "code",
   "execution_count": 4,
   "id": "8ecfec22",
   "metadata": {
    "ExecuteTime": {
     "end_time": "2023-04-14T17:08:11.089551Z",
     "start_time": "2023-04-14T17:07:58.207504Z"
    }
   },
   "outputs": [
    {
     "name": "stderr",
     "output_type": "stream",
     "text": [
      "/Users/wanrylin/miniconda3/envs/tensorflow/lib/python3.10/site-packages/sklearn/base.py:318: UserWarning: Trying to unpickle estimator SVC from version 1.1.3 when using version 1.2.2. This might lead to breaking code or invalid results. Use at your own risk. For more info please refer to:\n",
      "https://scikit-learn.org/stable/model_persistence.html#security-maintainability-limitations\n",
      "  warnings.warn(\n",
      "/Users/wanrylin/miniconda3/envs/tensorflow/lib/python3.10/site-packages/sklearn/base.py:318: UserWarning: Trying to unpickle estimator StandardScaler from version 1.1.3 when using version 1.2.2. This might lead to breaking code or invalid results. Use at your own risk. For more info please refer to:\n",
      "https://scikit-learn.org/stable/model_persistence.html#security-maintainability-limitations\n",
      "  warnings.warn(\n"
     ]
    }
   ],
   "source": [
    "static_folder = '/Users/wanrylin/Master Programme/dataset/original data/test/static'\n",
    "Motion = 'csv'\n",
    "CSI_amp,CSI_pha,Time_sequence,motion_label = CSIextracter(static_folder,Motion)\n",
    "Feature_static = feature_generater(CSI_pha,Time_sequence)\n",
    "label_static = np.zeros((len(Feature_static,)))"
   ]
  },
  {
   "cell_type": "code",
   "execution_count": 5,
   "id": "10c0c087",
   "metadata": {
    "ExecuteTime": {
     "end_time": "2023-04-14T17:08:11.941805Z",
     "start_time": "2023-04-14T17:08:11.937350Z"
    }
   },
   "outputs": [],
   "source": [
    "X_test_new = np.concatenate((Feature_static , Feature_walk),axis = 0)\n",
    "y_test_new = np.concatenate((label_static, label_walk))"
   ]
  },
  {
   "cell_type": "code",
   "execution_count": 72,
   "id": "12598c70",
   "metadata": {
    "ExecuteTime": {
     "end_time": "2023-04-07T16:56:53.200985Z",
     "start_time": "2023-04-07T16:56:53.091010Z"
    }
   },
   "outputs": [
    {
     "name": "stdout",
     "output_type": "stream",
     "text": [
      "[0.9533132530120482, 0.8609865470852018, 1.0, 0.9253012048192771]\n",
      "124\n",
      "130\n",
      "160\n",
      "161\n",
      "175\n",
      "204\n",
      "246\n",
      "248\n",
      "249\n",
      "262\n",
      "293\n",
      "298\n",
      "304\n",
      "305\n",
      "307\n",
      "308\n",
      "311\n",
      "312\n",
      "321\n",
      "325\n",
      "327\n",
      "328\n",
      "329\n",
      "332\n",
      "334\n",
      "336\n",
      "337\n",
      "345\n",
      "346\n",
      "347\n",
      "351\n",
      "380\n",
      "381\n",
      "730\n",
      "732\n",
      "737\n",
      "741\n",
      "747\n",
      "752\n",
      "753\n",
      "771\n",
      "775\n",
      "776\n",
      "778\n",
      "780\n",
      "782\n",
      "785\n",
      "786\n",
      "787\n",
      "790\n",
      "791\n",
      "798\n",
      "803\n",
      "807\n",
      "814\n",
      "815\n",
      "820\n",
      "821\n",
      "825\n",
      "904\n",
      "905\n",
      "906\n"
     ]
    },
    {
     "data": {
      "image/png": "[encoded data removed]",
      "text/plain": [
       "<Figure size 600x600 with 2 Axes>"
      ]
     },
     "metadata": {},
     "output_type": "display_data"
    },
    {
     "name": "stdout",
     "output_type": "stream",
     "text": [
      "\u001b[31mThe accuracy of the model is 95.33%\u001b[0m\n",
      "\u001b[31mThe GMean of the model is 96.66%\u001b[0m\n",
      "The recall of the model is 95.33%\n",
      "The precision of the model is 100.00%\n",
      "The F1 of the model is 97.61%\n"
     ]
    }
   ],
   "source": [
    "test_pred = svc.predict(X_test_new)\n",
    "\n",
    "# verify the performance\n",
    "Accuracy = accuracy_score(y_test_new , test_pred)\n",
    "Precision = precision_score(y_test_new , test_pred)\n",
    "Recall = recall_score(y_test_new , test_pred)\n",
    "F1_score = f1_score(y_test_new , test_pred)\n",
    "print([Accuracy,Precision,Recall,F1_score])\n",
    "\n",
    "for i in range(len(test_pred)):\n",
    "    if test_pred[i] != y_test_new[i]:\n",
    "        print(i)\n",
    "\n",
    "Motion_label = ['static','moving']\n",
    "pred_label = [Motion_label[int(x)] for x in test_pred]\n",
    "true_label = [Motion_label[int(x)] for x in y_test_new]\n",
    "\n",
    "confusion_m(pred_label, true_label,Motion_label)"
   ]
  },
  {
   "cell_type": "code",
   "execution_count": 58,
   "id": "6a00c52d",
   "metadata": {
    "ExecuteTime": {
     "end_time": "2023-04-07T16:46:33.756903Z",
     "start_time": "2023-04-07T16:46:33.752241Z"
    }
   },
   "outputs": [
    {
     "name": "stdout",
     "output_type": "stream",
     "text": [
      "['bkbg2.csv', 'bkbg1.csv', 'stand_static_2_4.csv', 'sit_static_1_2.csv', 'lie_static_1.csv', 'lie_static_2.csv', 'sit_static_2_4.csv', 'stand_static_1_2.csv']\n"
     ]
    }
   ],
   "source": [
    "movement_listpath = os.listdir(static_folder)\n",
    "print(movement_listpath)"
   ]
  },
  {
   "cell_type": "code",
   "execution_count": 8,
   "id": "43adf28e",
   "metadata": {
    "ExecuteTime": {
     "end_time": "2023-04-14T17:09:25.971590Z",
     "start_time": "2023-04-14T17:09:25.968417Z"
    }
   },
   "outputs": [
    {
     "name": "stdout",
     "output_type": "stream",
     "text": [
      "(384,)\n"
     ]
    }
   ],
   "source": [
    "print(label_walk.shape)"
   ]
  },
  {
   "cell_type": "markdown",
   "id": "9ecd121d",
   "metadata": {},
   "source": [
    "# get the feature distribution"
   ]
  },
  {
   "cell_type": "code",
   "execution_count": 18,
   "id": "6e69f6bd",
   "metadata": {
    "ExecuteTime": {
     "end_time": "2023-04-13T08:56:29.224306Z",
     "start_time": "2023-04-13T08:56:29.120286Z"
    }
   },
   "outputs": [
    {
     "data": {
      "image/png": "[encoded data removed]",
      "text/plain": [
       "<Figure size 640x480 with 1 Axes>"
      ]
     },
     "metadata": {},
     "output_type": "display_data"
    }
   ],
   "source": [
    "## load feature\n",
    "e_static = pd.read_csv('/Users/wanrylin/Master Programme/dataset/movement detection/static/e_feature.csv')\n",
    "p_static = pd.read_csv('/Users/wanrylin/Master Programme/dataset/movement detection/static/p_feature.csv')\n",
    "dynamic = pd.read_csv('/Users/wanrylin/Master Programme/dataset/movement detection/dynamic/all_feature.csv')\n",
    "e_static_array = e_static.values\n",
    "p_static_array = p_static.values\n",
    "dynamic_array = dynamic.values\n",
    "dimension = [3,5,7]\n",
    "\n",
    "import numpy as np\n",
    "import matplotlib.pyplot as plt\n",
    "from mpl_toolkits.mplot3d import Axes3D\n",
    "\n",
    "# generate data points\n",
    "e_static_point = e_static_array[:,dimension]\n",
    "p_static_point = p_static_array[:,dimension]\n",
    "dynamic_point = dynamic_array[:,dimension]\n",
    "\n",
    "\n",
    "# plot the points\n",
    "fig = plt.figure()\n",
    "ax = fig.add_subplot(111, projection='3d')\n",
    "ax.scatter(e_static_point[:,0], e_static_point[:,1], e_static_point[:,2], c='r', marker='o',label = 'static environment')\n",
    "ax.scatter(p_static_point[:,0], p_static_point[:,1], p_static_point[:,2], c='g', marker='^',label = 'dynamic environment')\n",
    "ax.scatter(dynamic_point[:,0], dynamic_point[:,1], dynamic_point[:,2], c='b', marker='s',label ='human movement')\n",
    "\n",
    "ax.set_xlim(0, 5)\n",
    "ax.set_zlim(0,1)\n",
    "# set labels and title\n",
    "plt.title('Feature visualization')\n",
    "# show the legend\n",
    "ax.legend()\n",
    "\n",
    "# show the plot\n",
    "plt.show()\n"
   ]
  },
  {
   "cell_type": "code",
   "execution_count": 21,
   "id": "1fd07ea0",
   "metadata": {
    "ExecuteTime": {
     "end_time": "2023-04-13T09:04:23.542814Z",
     "start_time": "2023-04-13T09:04:23.535795Z"
    }
   },
   "outputs": [
    {
     "data": {
      "text/plain": [
       "(127, 20)"
      ]
     },
     "execution_count": 21,
     "metadata": {},
     "output_type": "execute_result"
    }
   ],
   "source": [
    "dynamic_array.shape"
   ]
  },
  {
   "cell_type": "code",
   "execution_count": null,
   "id": "addb254a",
   "metadata": {},
   "outputs": [],
   "source": []
  }
 ],
 "metadata": {
  "kernelspec": {
   "display_name": "Python 3 (ipykernel)",
   "language": "python",
   "name": "python3"
  },
  "language_info": {
   "codemirror_mode": {
    "name": "ipython",
    "version": 3
   },
   "file_extension": ".py",
   "mimetype": "text/x-python",
   "name": "python",
   "nbconvert_exporter": "python",
   "pygments_lexer": "ipython3",
   "version": "3.10.9"
  },
  "toc": {
   "base_numbering": 1,
   "nav_menu": {},
   "number_sections": true,
   "sideBar": true,
   "skip_h1_title": false,
   "title_cell": "Table of Contents",
   "title_sidebar": "Contents",
   "toc_cell": false,
   "toc_position": {},
   "toc_section_display": true,
   "toc_window_display": false
  },
  "varInspector": {
   "cols": {
    "lenName": 16,
    "lenType": 16,
    "lenVar": 40
   },
   "kernels_config": {
    "python": {
     "delete_cmd_postfix": "",
     "delete_cmd_prefix": "del ",
     "library": "var_list.py",
     "varRefreshCmd": "print(var_dic_list())"
    },
    "r": {
     "delete_cmd_postfix": ") ",
     "delete_cmd_prefix": "rm(",
     "library": "var_list.r",
     "varRefreshCmd": "cat(var_dic_list()) "
    }
   },
   "types_to_exclude": [
    "module",
    "function",
    "builtin_function_or_method",
    "instance",
    "_Feature"
   ],
   "window_display": false
  }
 },
 "nbformat": 4,
 "nbformat_minor": 5
}
