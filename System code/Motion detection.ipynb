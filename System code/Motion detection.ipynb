{
 "cells": [
  {
   "cell_type": "markdown",
   "id": "3b6a9ff1",
   "metadata": {},
   "source": [
    "# Motion Detection"
   ]
  },
  {
   "cell_type": "markdown",
   "source": [
    "In this file, movement detection is firstly applied to pick the motion CSI slice. Then a 1DCNN is trained and used to classify after necessary signal processing."
   ],
   "metadata": {
    "collapsed": false
   }
  },
  {
   "cell_type": "markdown",
   "id": "ca7b18ce",
   "metadata": {},
   "source": [
    "## get walk CSI data"
   ]
  },
  {
   "cell_type": "code",
   "execution_count": null,
   "id": "1021eff7",
   "metadata": {
    "ExecuteTime": {
     "end_time": "2023-04-06T09:31:09.815086Z",
     "start_time": "2023-04-06T09:31:09.791636Z"
    },
    "scrolled": false
   },
   "outputs": [],
   "source": [
    "def CSIextracter(folder,motion):\n",
    "    #1. load CSI data and SVM model\n",
    "#     movement_folder = '/Users/wanrylin/Master Programme/dataset/original data/movement'\n",
    "#     folder = movement_folder\n",
    "#     motion = 'walk'\n",
    "    movement_listpath = os.listdir(folder)\n",
    "    movement_listpath = [x for x in movement_listpath if motion in x]\n",
    "    \n",
    "    CSI_amp = []\n",
    "    CSI_pha = []\n",
    "    Time = []\n",
    "    label = []\n",
    "    # Load the csi sequence\n",
    "    for moving_num in range(len(movement_listpath)):\n",
    "        filename = folder + '/' + movement_listpath[moving_num]\n",
    "        CSIdata = pd.read_csv(filename)\n",
    "        CSI_array = CSIdata.values\n",
    "        time_sequence = CSI_array[1:,0]\n",
    "        csi_data_str = CSI_array[1:,1:]\n",
    "        # change str into complex\n",
    "        csi_data = np.zeros_like(csi_data_str, dtype=np.complex64)\n",
    "        [row,col] = csi_data_str.shape\n",
    "        for i in range(row):\n",
    "            for j in range(col):\n",
    "                element = csi_data_str[i,j]\n",
    "                element = element.replace('i', 'j')\n",
    "                csi_data[i,j] = complex(element)\n",
    "\n",
    "        # revise time sequence\n",
    "        peak = [ time_sequence[t] for t in range(1,len(time_sequence)-1) if time_sequence[t] > time_sequence[t-1] and time_sequence[t] > time_sequence[t+1]]\n",
    "        peak = []\n",
    "        for i in range(1,len(time_sequence)-1):\n",
    "            if time_sequence[i] > time_sequence[i-1] and time_sequence[i] > time_sequence[i+1]:\n",
    "                peak.append(i)\n",
    "        for position in peak:\n",
    "            time_sequence[int(position+1):] += 4096 \n",
    "        time_sequence -= (time_sequence[0]-1)\n",
    "        # check time sequence is it in order\n",
    "        flag = 0\n",
    "        for i in range(1,len(time_sequence)-1):\n",
    "            if time_sequence[i] < time_sequence[i-1]: \n",
    "                flag = 1\n",
    "                print(\"the %d in time sequence not in order\",i)\n",
    "                break\n",
    "        Time.append(time_sequence)\n",
    "\n",
    "        # get amplitude data only\n",
    "        csi_amp = np.abs(csi_data)\n",
    "        CSI_amp.append(csi_amp)\n",
    "\n",
    "        # revise CSI phase data\n",
    "        # phase correction from [IndoTrack]\n",
    "        rx1 = csi_data[:,:57]\n",
    "        rx2 = csi_data[:,57:]\n",
    "        csi_data_adj = np.zeros(rx1.shape, dtype=complex)\n",
    "        csi_data_ref_adj = np.zeros(rx2.shape, dtype=complex)\n",
    "        alpha_sum = 0\n",
    "        for jj in range(57):\n",
    "            amp = np.abs(rx1[:,jj])\n",
    "            alpha = np.min(amp[amp!=0])\n",
    "            alpha_sum = alpha_sum + alpha\n",
    "            csi_data_adj[:,jj] = np.abs(np.abs(rx1[:,jj]) - alpha) * np.exp(1j * np.angle(rx1[:,jj]))\n",
    "        beta = 5000 * alpha_sum / 57 # 5000 is an experience value, it just need to be large enough\n",
    "        for jj in range(57):\n",
    "            csi_data_ref_adj[:,jj] = (np.abs(rx2[:,jj]) + beta) * np.exp(1j * np.angle(rx2[:,jj]))\n",
    "        # Conjunction Multiply\n",
    "        conj_mult = csi_data_adj * np.conj(csi_data_ref_adj)\n",
    "        csi_revised = np.zeros(conj_mult.shape, dtype=complex)\n",
    "        for j in range(57):\n",
    "            for i in range(len(conj_mult)):\n",
    "                z = conj_mult[i,j]\n",
    "                if z.imag < 0:\n",
    "                    csi_revised[i,j] = -1 * z.real + (-1j) * z.imag\n",
    "                else:\n",
    "                    csi_revised[i,j] = z           \n",
    "        csi_phase = np.angle(csi_revised)\n",
    "        CSI_pha.append(csi_phase)\n",
    "        \n",
    "        # generate the label for the motion\n",
    "        file_name = os.path.basename(filename)\n",
    "        name_list = file_name.split('_')\n",
    "        if len(name_list) > 1:\n",
    "            name_list = name_list[:-1]\n",
    "            motion_label = '_'.join(name_list)\n",
    "        else:\n",
    "            motion_label = name_list[0]\n",
    "        label.append(motion_label)\n",
    "        \n",
    "    return CSI_amp,CSI_pha,Time,label"
   ]
  },
  {
   "cell_type": "markdown",
   "id": "16f6a445",
   "metadata": {},
   "source": [
    "## movement detection"
   ]
  },
  {
   "cell_type": "code",
   "execution_count": null,
   "id": "5aeafa6c",
   "metadata": {
    "ExecuteTime": {
     "end_time": "2023-04-06T09:31:10.928355Z",
     "start_time": "2023-04-06T09:31:10.909968Z"
    }
   },
   "outputs": [],
   "source": [
    "def movement_detection(CSI_pha,Time):\n",
    "    \n",
    "    svm_folder = '/Users/wanrylin/Master Programme/dataset/movement detection/svm_model'\n",
    "    # load svm model\n",
    "    filename = svm_folder + '/pca_svm_model.joblib'\n",
    "    svm = joblib.load(filename)\n",
    "    filename = svm_folder + '/pca_scaler.joblib'\n",
    "    scaler = joblib.load(filename)\n",
    "    #3. movement period detection\n",
    "    feature_num = 2\n",
    "    dimension_num = 10\n",
    "    # cut the csi sequence into frame with 1 second long and 0.5 interval\n",
    "    sampling_rate = 200 # Hz\n",
    "    frame_length = 1 # second\n",
    "    frame = frame_length * sampling_rate\n",
    "    interval_length = 0.5 # second\n",
    "    interval = interval_length * sampling_rate\n",
    "    \n",
    "    # detection\n",
    "    Label = []\n",
    "    for k in range(len(Time)):\n",
    "        csi_phase = CSI_pha[k]\n",
    "        time_sequence = Time[k]\n",
    "        time_sequence = list(time_sequence)\n",
    "        num = int((time_sequence[-1] - frame)/interval + 1) # number of frames\n",
    "        start = 0 # initial boundry\n",
    "        end = 150\n",
    "        labels = np.zeros((len(time_sequence),))\n",
    "        # prediction for each frame\n",
    "        for i in range(num):\n",
    "            #1. generate frame\n",
    "            if (i * interval + 1) in time_sequence:\n",
    "                start = int(time_sequence.index(i * interval + 1))\n",
    "            else:\n",
    "                start_time = np.min([x for x in time_sequence[start:start + 200] if x > (i * interval + 1)])\n",
    "                start = int(time_sequence.index(start_time))\n",
    "            if (i * interval + frame + 1) in time_sequence or (i * interval + frame + 1) > time_sequence[-1]:\n",
    "                end = int(time_sequence.index(np.min([i * interval + frame + 1,time_sequence[-1]])))\n",
    "            else:\n",
    "                end_time = np.min([x for x in time_sequence[end:end + 200] if x > (i * interval + frame + 1)])\n",
    "                end = int(np.min([time_sequence.index(end_time),len(time_sequence)]))\n",
    "            phase = csi_phase[start:end]\n",
    "\n",
    "            #2. Make predictions on the test set using the loaded model\n",
    "            #(a) create csi feature\n",
    "            # create a PCA object with 10 components\n",
    "            pca = PCA(dimension_num)\n",
    "            # fit the PCA object to the data and transform the data\n",
    "            phase_pca = pca.fit_transform(phase)\n",
    "            # iterate each component\n",
    "            feature_matrix = np.zeros((feature_num, dimension_num))\n",
    "            for j in range(dimension_num):\n",
    "                pha_mean = np.mean(phase_pca[:, j])\n",
    "                pha_var = np.var(phase_pca[:, j])\n",
    "                sub_feature = np.array([pha_mean, pha_var])\n",
    "                feature_matrix[:, j] = sub_feature\n",
    "            feature_matrix = feature_matrix.T\n",
    "            feature = feature_matrix.reshape(1,-1)   \n",
    "            #(b) scale the feature\n",
    "            feature_scaled = scaler.transform(feature)\n",
    "            #(c) predict label\n",
    "            pred_label = svm.predict(feature_scaled)\n",
    "            #(d) store the label in labels\n",
    "            if pred_label == 1:\n",
    "                for n in range(start,end):\n",
    "                    labels[n] = 1\n",
    "\n",
    "        Label.append(labels)\n",
    "        \n",
    "    return Label"
   ]
  },
  {
   "cell_type": "markdown",
   "id": "04811f97",
   "metadata": {},
   "source": [
    "## get the moving slice"
   ]
  },
  {
   "cell_type": "code",
   "execution_count": null,
   "id": "00277f8c",
   "metadata": {
    "ExecuteTime": {
     "end_time": "2023-04-06T09:31:18.042439Z",
     "start_time": "2023-04-06T09:31:12.445421Z"
    }
   },
   "outputs": [],
   "source": [
    "import pandas as pd\n",
    "import numpy as np\n",
    "import os\n",
    "\n",
    "movement_folder = '/Users/wanrylin/Master Programme/dataset/original data/movement'\n",
    "motion = 'walk'\n",
    "CSI_amp,CSI_pha,Time_sequence,motion_label = CSIextracter(movement_folder,motion)"
   ]
  },
  {
   "cell_type": "code",
   "execution_count": null,
   "id": "11c34bba",
   "metadata": {
    "ExecuteTime": {
     "end_time": "2023-04-06T09:31:24.029264Z",
     "start_time": "2023-04-06T09:31:20.715652Z"
    }
   },
   "outputs": [],
   "source": [
    "import joblib\n",
    "from sklearn.decomposition import PCA\n",
    "\n",
    "Label = movement_detection(CSI_pha,Time_sequence)"
   ]
  },
  {
   "cell_type": "markdown",
   "id": "c831c5d2",
   "metadata": {
    "ExecuteTime": {
     "end_time": "2023-03-22T06:48:18.226582Z",
     "start_time": "2023-03-22T06:48:18.219236Z"
    }
   },
   "source": [
    "## generate dataset"
   ]
  },
  {
   "cell_type": "code",
   "execution_count": null,
   "id": "0441c845",
   "metadata": {
    "ExecuteTime": {
     "end_time": "2023-04-06T09:31:26.599737Z",
     "start_time": "2023-04-06T09:31:26.590316Z"
    }
   },
   "outputs": [],
   "source": [
    "# butter worth low pass filter\n",
    "def butter_lowpass_filter(data, cutoff, freq, order=5):\n",
    "    nyq = 0.5 * freq\n",
    "    normal_cutoff = cutoff / nyq\n",
    "    b, a = butter(order, normal_cutoff, btype='low', analog=False, fs = freq)\n",
    "    \n",
    "    [row,col] = data.shape\n",
    "    filtered_data = np.zeros(data.shape)\n",
    "    for i in range(col):\n",
    "        wave = data[:,i]\n",
    "        filtered = lfilter(b, a, wave)\n",
    "        filtered_data[:,i] = filtered\n",
    "    return filtered_data"
   ]
  },
  {
   "cell_type": "code",
   "execution_count": null,
   "id": "f4744150",
   "metadata": {
    "ExecuteTime": {
     "end_time": "2023-04-07T15:37:25.083540Z",
     "start_time": "2023-04-07T15:37:25.074007Z"
    }
   },
   "outputs": [],
   "source": [
    "def dataset_generater(CSI_amp,Label):\n",
    "    # from sklearn.preprocessing import StandardScaler\n",
    "    # from scipy.signal import resample\n",
    "    new_N = 200\n",
    "    dimension_num = 10\n",
    "    num = len(CSI_amp)\n",
    "    dataset = np.zeros((num,new_N,dimension_num))\n",
    "    for i in range(num):\n",
    "        csi_amp = CSI_amp[i]\n",
    "        labels = Label[i].astype(np.int32)\n",
    "        labels = list(labels)\n",
    "        \n",
    "        # cut the motion CSI slice\n",
    "        motion_start = labels.index(1)\n",
    "        motion_end = len(labels) - labels[::-1].index(1) - 1  \n",
    "        csi_slice = csi_amp[motion_start:motion_end]\n",
    "        \n",
    "        # PCA \n",
    "        # create a PCA object with 10 components\n",
    "        pca = PCA(dimension_num)\n",
    "        # fit the PCA object to the data and transform the data\n",
    "        amp_pca = pca.fit_transform(csi_slice)\n",
    "        \n",
    "        # standarize\n",
    "        # Create an instance of StandardScaler\n",
    "        scaler = StandardScaler()\n",
    "        scaler.fit(amp_pca)\n",
    "        # Transform the data using the scaler\n",
    "        scaled_data = scaler.transform(amp_pca)\n",
    "        \n",
    "        # downsample\n",
    "        downsampled_amp = resample(scaled_data, new_N, axis=0)\n",
    "        \n",
    "        # low pass filter\n",
    "        order = 6\n",
    "        ori_sampling_rate = 200 #Hz\n",
    "        fs = len(amp_pca)/new_N * ori_sampling_rate # sample rate, Hz\n",
    "        cutoff = 100 # desired cutoff frequency of the filter, Hz # Get the filter coefficients so we can check its frequency response.\n",
    "        filtered_amp = butter_lowpass_filter(downsampled_amp, cutoff, fs, order)\n",
    "        \n",
    "        # store\n",
    "        dataset[i] = filtered_amp\n",
    "        \n",
    "    return dataset"
   ]
  },
  {
   "cell_type": "code",
   "execution_count": null,
   "id": "485d74b7",
   "metadata": {
    "ExecuteTime": {
     "end_time": "2023-04-07T16:16:10.048072Z",
     "start_time": "2023-04-07T16:16:10.031475Z"
    }
   },
   "outputs": [],
   "source": [
    "def dataset_booster(CSI_amp,Label,motion_label):\n",
    "    # from sklearn.preprocessing import StandardScaler\n",
    "    # from scipy.signal import resample\n",
    "    boost = 11\n",
    "    new_N = 200\n",
    "    dimension_num = 10\n",
    "    num = len(CSI_amp)\n",
    "    dataset = np.zeros((num * boost,new_N,dimension_num))\n",
    "    data_label = np.zeros(num * boost)\n",
    "    boost_back = [x - 5 if x > 5 else 0 for x in range(boost)]\n",
    "    boost_front = boost_back[::-1]\n",
    "    for i in range(num):\n",
    "        csi_amp = CSI_amp[i]\n",
    "        labels = Label[i].astype(np.int32)\n",
    "        labels = list(labels)\n",
    "        \n",
    "        for j in range(boost):\n",
    "            # cut the motion CSI slice\n",
    "            motion_start = labels.index(1)\n",
    "            motion_end = len(labels) - labels[::-1].index(1) - 1\n",
    "            motion_start = np.max([0,motion_start - 10*boost_front[j]])\n",
    "            motion_end = np.min([len(labels),motion_end + 10*boost_back[j]])\n",
    "            csi_slice = csi_amp[motion_start:motion_end]\n",
    "    #         csi_slice = csi_amp\n",
    "\n",
    "            # PCA \n",
    "            # create a PCA object with 10 components\n",
    "            pca = PCA(dimension_num)\n",
    "            # fit the PCA object to the data and transform the data\n",
    "            amp_pca = pca.fit_transform(csi_slice)\n",
    "\n",
    "            # standarize\n",
    "            # Create an instance of StandardScaler\n",
    "            scaler = StandardScaler()\n",
    "            scaler.fit(amp_pca)\n",
    "            # Transform the data using the scaler\n",
    "            scaled_data = scaler.transform(amp_pca)\n",
    "\n",
    "            # downsample\n",
    "            downsampled_amp = resample(scaled_data, new_N, axis=0)\n",
    "\n",
    "            # low pass filter\n",
    "            order = 6\n",
    "            ori_sampling_rate = 200 #Hz\n",
    "            fs = len(amp_pca)/new_N * ori_sampling_rate # sample rate, Hz\n",
    "            cutoff = 100 # desired cutoff frequency of the filter, Hz # Get the filter coefficients so we can check its frequency response.\n",
    "            filtered_amp = butter_lowpass_filter(downsampled_amp, cutoff, fs, order)\n",
    "\n",
    "            # store\n",
    "            dataset[i*boost +j] = filtered_amp \n",
    "            data_label[i*boost +j] = motion_label[i]\n",
    "        \n",
    "    return dataset,data_label"
   ]
  },
  {
   "cell_type": "code",
   "execution_count": null,
   "id": "4b19eb4f",
   "metadata": {
    "ExecuteTime": {
     "end_time": "2023-04-06T09:35:20.212125Z",
     "start_time": "2023-04-06T09:35:12.909421Z"
    }
   },
   "outputs": [],
   "source": [
    "from sklearn.preprocessing import StandardScaler\n",
    "from sklearn.model_selection import train_test_split\n",
    "from scipy.signal import resample\n",
    "import tensorflow as tf\n",
    "from scipy.signal import butter, lfilter, freqz\n",
    "\n",
    "# dataset = dataset_generater(CSI_amp,Label)\n",
    "# motion = ['walk_approach','walk_leave']\n",
    "# data_label = [motion.index(x) for x in motion_label]\n",
    "\n",
    "# # Split data into training and testing sets\n",
    "# X_train, X_test, y_train, y_test = train_test_split(dataset, data_label, test_size=0.3, random_state=21)\n",
    "\n",
    "# y_train = tf.keras.utils.to_categorical(y_train, 2)\n",
    "# y_test = tf.keras.utils.to_categorical(y_test, 2)\n",
    "\n",
    "Motion = ['walk_approach','walk_leave']\n",
    "data_label = [Motion.index(x) for x in motion_label]\n",
    "train_amp = CSI_amp[1::5] + CSI_amp[2::5] + CSI_amp[3::5] + CSI_amp[4::5]\n",
    "train_label = Label[1::5] + Label[2::5] + Label[3::5] + Label[4::5]\n",
    "train_motion_label = data_label[1::5] + data_label[2::5] + data_label[3::5] + data_label[4::5]\n",
    "X_train,y_train = dataset_booster(train_amp,train_label,train_motion_label)\n",
    "\n",
    "test_amp = CSI_amp[::5]\n",
    "test_label = Label[::5]\n",
    "test_motion_label = data_label[::5]\n",
    "# X_test,y_test = dataset_booster(test_amp,test_label,test_motion_label)\n",
    "X_test = dataset_generater(test_amp,test_label)\n",
    "y_test = test_motion_label\n",
    "\n",
    "\n",
    "# Split data into training and testing sets\n",
    "# dataset = dataset_generater(CSI_amp,my_label)\n",
    "# X_train, X_test, y_train, y_test = train_test_split(dataset, data_label, test_size=0.2, random_state=40)\n",
    "\n",
    "y_train = tf.keras.utils.to_categorical(y_train, 2)\n",
    "y_test = tf.keras.utils.to_categorical(y_test, 2)"
   ]
  },
  {
   "cell_type": "code",
   "execution_count": null,
   "id": "e83c9275",
   "metadata": {
    "ExecuteTime": {
     "end_time": "2023-04-06T09:35:32.575291Z",
     "start_time": "2023-04-06T09:35:32.563668Z"
    }
   },
   "outputs": [],
   "source": [
    "X_train.shape"
   ]
  },
  {
   "cell_type": "code",
   "execution_count": null,
   "id": "2a16b8d1",
   "metadata": {
    "ExecuteTime": {
     "end_time": "2023-04-06T09:35:45.331834Z",
     "start_time": "2023-04-06T09:35:45.323590Z"
    }
   },
   "outputs": [],
   "source": [
    "X_test.shape"
   ]
  },
  {
   "cell_type": "markdown",
   "id": "a5c1a46d",
   "metadata": {},
   "source": [
    "## build 1DCNN"
   ]
  },
  {
   "cell_type": "code",
   "execution_count": null,
   "id": "6934d5df",
   "metadata": {
    "ExecuteTime": {
     "end_time": "2023-04-06T09:36:12.110176Z",
     "start_time": "2023-04-06T09:36:11.936024Z"
    }
   },
   "outputs": [],
   "source": [
    "from tensorflow.keras import layers\n",
    "# Define input shape\n",
    "input_shape = (200,10)  # N can vary, so set it to None\n",
    "\n",
    "# Build model\n",
    "model = tf.keras.Sequential([\n",
    "    layers.Input(shape=input_shape),\n",
    "    layers.Conv1D(32, 3, activation='relu', padding='same'),\n",
    "    layers.MaxPooling1D(2),\n",
    "    layers.Conv1D(16, 3, activation='relu', padding='same'),\n",
    "    layers.MaxPooling1D(2),\n",
    "    layers.Dropout(0.5),\n",
    "    layers.Flatten(),\n",
    "    layers.Dense(2, activation='softmax')\n",
    "])\n",
    "\n",
    "# Compile model\n",
    "model.compile(loss='categorical_crossentropy',\n",
    "              optimizer='adam',\n",
    "              metrics=['accuracy'])\n",
    "\n",
    "# Print model summary\n",
    "model.summary()"
   ]
  },
  {
   "cell_type": "markdown",
   "id": "d6984824",
   "metadata": {},
   "source": [
    "## train the NN"
   ]
  },
  {
   "cell_type": "code",
   "execution_count": null,
   "id": "cdd79421",
   "metadata": {
    "ExecuteTime": {
     "end_time": "2023-04-06T09:36:42.317001Z",
     "start_time": "2023-04-06T09:36:18.122580Z"
    }
   },
   "outputs": [],
   "source": [
    "from tensorflow.keras.callbacks import TensorBoard\n",
    "from tensorflow.keras.callbacks import ModelCheckpoint\n",
    "\n",
    "# create a ModelCheckpoint callback to save the weights\n",
    "model_folder = '/Users/wanrylin/Master Programme/python code/model/walk_1DCNN'\n",
    "checkpoint = ModelCheckpoint(model_folder + \"/model_weights.{epoch:02d}.h5\",\n",
    "                             save_weights_only=True)\n",
    "\n",
    "# Create a TensorBoard callback and specify the log directory:\n",
    "log_dir = \"logs/fit/\"\n",
    "tensorboard_callback = TensorBoard(log_dir=log_dir, histogram_freq=1)\n",
    "# Pass the callback to the fit method of the model:\n",
    "model_history = model.fit(X_train, y_train, epochs=50, batch_size=4, validation_split=0.2, callbacks=[checkpoint])\n"
   ]
  },
  {
   "cell_type": "code",
   "execution_count": null,
   "id": "826d53ee",
   "metadata": {
    "ExecuteTime": {
     "end_time": "2023-04-07T12:27:41.049561Z",
     "start_time": "2023-04-07T12:27:40.971588Z"
    }
   },
   "outputs": [],
   "source": [
    "# evaluate the model on the test dataset\n",
    "test_loss, test_accuracy = model.evaluate(X_test,y_test,verbose=2)"
   ]
  },
  {
   "cell_type": "code",
   "execution_count": null,
   "id": "f43cbff8",
   "metadata": {
    "ExecuteTime": {
     "end_time": "2023-03-22T08:35:53.193839Z",
     "start_time": "2023-03-22T08:35:53.027375Z"
    }
   },
   "outputs": [],
   "source": [
    "# get predicted probabilities for each class\n",
    "y_pred_prob = model.predict(X_test)\n",
    "\n",
    "# get predicted labels (class with highest probability)\n",
    "y_pred = np.argmax(y_pred_prob, axis=1)\n",
    "\n",
    "y_truth = np.argmax(y_test, axis=1)\n",
    "print(y_pred)\n",
    "print(y_truth)"
   ]
  },
  {
   "cell_type": "code",
   "execution_count": null,
   "id": "5ffd3d36",
   "metadata": {
    "ExecuteTime": {
     "end_time": "2023-04-06T09:37:49.223982Z",
     "start_time": "2023-04-06T09:37:48.366094Z"
    }
   },
   "outputs": [],
   "source": [
    "# Save the entire model as a SavedModel.\n",
    "!mkdir -p saved_model\n",
    "model.save('saved_model/walk_NN')"
   ]
  },
  {
   "cell_type": "code",
   "execution_count": null,
   "id": "28b90113",
   "metadata": {
    "ExecuteTime": {
     "end_time": "2023-03-22T08:05:12.677024Z",
     "start_time": "2023-03-22T08:05:12.519559Z"
    }
   },
   "outputs": [],
   "source": [
    "csi_phase = CSI_pha[1]\n",
    "time_sequence = Time_sequence[1]\n",
    "# show 18th subcarrier \n",
    "fig, (ax1, ax2) = plt.subplots(nrows=2, ncols=1)\n",
    "ax1.scatter(time_sequence, csi_phase[:,18],s = 1)\n",
    "ax1.set_title(\"CSI phase\")\n",
    "ax2.scatter(time_sequence, csi_amp[:,18],s = 1)\n",
    "ax2.set_title(\"CSI amplitude\")\n",
    "fig.subplots_adjust(hspace=0.5)\n",
    "plt.show()"
   ]
  },
  {
   "cell_type": "code",
   "execution_count": null,
   "id": "c8ab6069",
   "metadata": {
    "ExecuteTime": {
     "end_time": "2023-03-22T07:55:33.420310Z",
     "start_time": "2023-03-22T07:55:33.415656Z"
    }
   },
   "outputs": [],
   "source": [
    "motion_start"
   ]
  },
  {
   "cell_type": "code",
   "execution_count": null,
   "id": "a81e1a5a",
   "metadata": {
    "ExecuteTime": {
     "end_time": "2023-03-22T08:56:24.452415Z",
     "start_time": "2023-03-22T08:56:24.135802Z"
    }
   },
   "outputs": [],
   "source": [
    "import matplotlib.pyplot as plt\n",
    "from sklearn.preprocessing import StandardScaler\n",
    "\n",
    "csi_amp = CSI_amp[i]\n",
    "labels = list(Label[i])\n",
    "motion = motion_label[i]\n",
    "time_sequence = Time_sequence[i]\n",
    "\n",
    "# cut the motion CSI slice\n",
    "motion_start = labels.index(1)\n",
    "motion_end = len(labels) - labels[::-1].index(1) - 1\n",
    "csi_slice = csi_amp[motion_start:motion_end]\n",
    "time_sequence = time_sequence[motion_start:motion_end]\n",
    "colors = list(np.zeros((len(csi_amp))))\n",
    "for n in range(len(labels)):\n",
    "    x = labels[n]\n",
    "    if x == 0:\n",
    "        colors[n] = 'b'\n",
    "    if x == 1:\n",
    "        colors[n] = 'r'\n",
    "\n",
    "dimension_num = 10\n",
    "# create a PCA object with 10 components\n",
    "pca = PCA(dimension_num)\n",
    "# fit the PCA object to the data and transform the data\n",
    "amp_pca = pca.fit_transform(csi_slice)\n",
    "\n",
    "# standarize\n",
    "# Create an instance of StandardScaler\n",
    "scaler = StandardScaler()\n",
    "scaler.fit(amp_pca)\n",
    "# Transform the data using the scaler\n",
    "scaled_data = scaler.transform(amp_pca)\n",
    "\n",
    "# show nth subcarrier \n",
    "print(i,motion)\n",
    "fig, (ax1, ax2, ax3, ax4, ax5) = plt.subplots(nrows=5, ncols=1,figsize = (6,10))\n",
    "ax1.scatter(time_sequence, scaled_data[:,0],s = 1)\n",
    "ax1.set_title(\"PCA component 1\")\n",
    "ax2.scatter(time_sequence, scaled_data[:,1],s = 1)\n",
    "ax2.set_title(\"PCA component 2\")\n",
    "ax3.scatter(time_sequence, scaled_data[:,2],s = 1)\n",
    "ax3.set_title(\"PCA component 3\")\n",
    "ax4.scatter(time_sequence, scaled_data[:,3],s = 1)\n",
    "ax4.set_title(\"PCA component 4\")\n",
    "ax5.scatter(time_sequence, scaled_data[:,4],s = 1)\n",
    "ax5.set_title(\"PCA component 5\")\n",
    "fig.subplots_adjust(hspace=0.5)\n",
    "plt.show()"
   ]
  },
  {
   "cell_type": "code",
   "execution_count": null,
   "id": "139f2cad",
   "metadata": {
    "ExecuteTime": {
     "end_time": "2023-03-22T07:29:33.495413Z",
     "start_time": "2023-03-22T07:29:33.489835Z"
    }
   },
   "outputs": [],
   "source": [
    "from scipy.signal import resample\n",
    "\n",
    "new_N = 200\n",
    "downsampled_amp = resample(scaled_data, new_N, axis=0)"
   ]
  },
  {
   "cell_type": "code",
   "execution_count": null,
   "id": "c491032a",
   "metadata": {
    "ExecuteTime": {
     "end_time": "2023-03-22T07:29:35.871917Z",
     "start_time": "2023-03-22T07:29:35.616536Z"
    }
   },
   "outputs": [],
   "source": [
    "new_sequence = range(new_N)\n",
    "fig, (ax1, ax2, ax3, ax4, ax5) = plt.subplots(nrows=5, ncols=1,figsize = (6,10))\n",
    "ax1.scatter(new_sequence, downsampled_amp[:,0],s = 1)\n",
    "ax1.set_title(\"PCA component 1\")\n",
    "ax2.scatter(new_sequence, downsampled_amp[:,1],s = 1)\n",
    "ax2.set_title(\"PCA component 2\")\n",
    "ax3.scatter(new_sequence, downsampled_amp[:,2],s = 1)\n",
    "ax3.set_title(\"PCA component 3\")\n",
    "ax4.scatter(new_sequence, downsampled_amp[:,3],s = 1)\n",
    "ax4.set_title(\"PCA component 4\")\n",
    "ax5.scatter(new_sequence, downsampled_amp[:,4],s = 1)\n",
    "ax5.set_title(\"PCA component 5\")\n",
    "fig.subplots_adjust(hspace=0.5)\n",
    "plt.show()"
   ]
  },
  {
   "cell_type": "code",
   "execution_count": null,
   "id": "926682c4",
   "metadata": {
    "ExecuteTime": {
     "end_time": "2023-03-22T07:37:24.513658Z",
     "start_time": "2023-03-22T07:37:24.260761Z"
    }
   },
   "outputs": [],
   "source": [
    "from scipy.signal import butter, lfilter, freqz\n",
    "\n",
    "def butter_lowpass_filter(data, cutoff, freq, order=5):\n",
    "    nyq = 0.5 * freq\n",
    "    normal_cutoff = cutoff / nyq\n",
    "    b, a = butter(order, normal_cutoff, btype='low', analog=False, fs = freq)\n",
    "    \n",
    "    [row,col] = data.shape\n",
    "    filtered_data = np.zeros(data.shape)\n",
    "    for i in range(col):\n",
    "        wave = data[:,i]\n",
    "        filtered = lfilter(b, a, wave)\n",
    "        filtered_data[:,i] = filtered\n",
    "    return filtered_data  # Filter requirements.\n",
    "\n",
    "\n",
    "order = 6\n",
    "fs = new_N/len(amp_pca) * 200 # sample rate, Hz\n",
    "cutoff = 20 # desired cutoff frequency of the filter, Hz # Get the filter coefficients so we can check its frequency response.\n",
    "filtered_amp = butter_lowpass_filter(downsampled_amp, cutoff, fs, order)\n",
    "fig, (ax1, ax2, ax3, ax4, ax5) = plt.subplots(nrows=5, ncols=1,figsize = (6,10))\n",
    "ax1.plot(new_sequence, filtered_amp[:,0])\n",
    "ax1.set_title(\"PCA component 1\")\n",
    "ax2.plot(new_sequence, filtered_amp[:,1])\n",
    "ax2.set_title(\"PCA component 2\")\n",
    "ax3.plot(new_sequence, filtered_amp[:,2])\n",
    "ax3.set_title(\"PCA component 3\")\n",
    "ax4.plot(new_sequence, filtered_amp[:,3])\n",
    "ax4.set_title(\"PCA component 4\")\n",
    "ax5.plot(new_sequence, filtered_amp[:,4])\n",
    "ax5.set_title(\"PCA component 5\")\n",
    "fig.subplots_adjust(hspace=0.5)\n",
    "plt.show()\n"
   ]
  },
  {
   "cell_type": "code",
   "execution_count": null,
   "id": "d80dde21",
   "metadata": {
    "ExecuteTime": {
     "end_time": "2023-03-22T08:07:44.041696Z",
     "start_time": "2023-03-22T08:07:44.032346Z"
    }
   },
   "outputs": [],
   "source": [
    "movement_folder = '/Users/wanrylin/Master Programme/dataset/original data/movement'\n",
    "folder = movement_folder\n",
    "motion = 'walk'\n",
    "movement_listpath = os.listdir(folder)\n",
    "movement_listpath = [x for x in movement_listpath if motion in x]\n",
    "print(movement_listpath[1])"
   ]
  },
  {
   "cell_type": "code",
   "execution_count": null,
   "id": "0a2a18c4",
   "metadata": {
    "ExecuteTime": {
     "end_time": "2023-03-22T08:25:40.539926Z",
     "start_time": "2023-03-22T08:25:40.258425Z"
    },
    "scrolled": false
   },
   "outputs": [],
   "source": [
    "import matplotlib.pyplot as plt\n",
    "svm_folder = '/Users/wanrylin/Master Programme/dataset/movement detection/svm_model'\n",
    "# load svm model\n",
    "filename = svm_folder + '/pca_svm_model.joblib'\n",
    "svm = joblib.load(filename)\n",
    "filename = svm_folder + '/pca_scaler.joblib'\n",
    "scaler = joblib.load(filename)\n",
    "#3. movement period detection\n",
    "feature_num = 2\n",
    "dimension_num = 10\n",
    "# cut the csi sequence into frame with 1 second long and 0.5 interval\n",
    "sampling_rate = 200 # Hz\n",
    "frame_length = 1 # second\n",
    "frame = frame_length * sampling_rate\n",
    "interval_length = 0.5 # second\n",
    "interval = interval_length * sampling_rate\n",
    "\n",
    "# detection\n",
    "Label = []\n",
    "k = 1\n",
    "csi_phase = CSI_pha[k]\n",
    "time_sequence = Time_sequence[k]\n",
    "time_sequence = list(time_sequence)\n",
    "num = int((time_sequence[-1] - frame)/interval + 1) # number of frames\n",
    "start = 0 # initial boundry\n",
    "end = 150\n",
    "labels = np.zeros((len(time_sequence),))\n",
    "colors = list(np.zeros((len(csi_phase))))\n",
    "# prediction for each frame\n",
    "for i in range(num):\n",
    "    #1. generate frame\n",
    "    if (i * interval + 1) in time_sequence:\n",
    "        start = int(time_sequence.index(i * interval + 1))\n",
    "    else:\n",
    "        start_time = np.min([x for x in time_sequence[start:start + 200] if x > (i * interval + 1)])\n",
    "        start = int(time_sequence.index(start_time))\n",
    "    if (i * interval + frame + 1) in time_sequence or (i * interval + frame + 1) > time_sequence[-1]:\n",
    "        end = int(time_sequence.index(np.min([i * interval + frame + 1,time_sequence[-1]])))\n",
    "    else:\n",
    "        end_time = np.min([x for x in time_sequence[end:end + 200] if x > (i * interval + frame + 1)])\n",
    "        end = int(np.min([time_sequence.index(end_time),len(time_sequence)]))\n",
    "    phase = csi_phase[start:end]\n",
    "    \n",
    "\n",
    "    #2. Make predictions on the test set using the loaded model\n",
    "    #(a) create csi feature\n",
    "    # create a PCA object with 10 components\n",
    "    pca = PCA(dimension_num)\n",
    "    # fit the PCA object to the data and transform the data\n",
    "    phase_pca = pca.fit_transform(phase)\n",
    "    # iterate each component\n",
    "    feature_matrix = np.zeros((feature_num, dimension_num))\n",
    "    for j in range(dimension_num):\n",
    "        pha_mean = np.mean(phase_pca[:, j])\n",
    "        pha_var = np.var(phase_pca[:, j])\n",
    "        sub_feature = np.array([pha_mean, pha_var])\n",
    "        feature_matrix[:, j] = sub_feature\n",
    "    feature_matrix = feature_matrix.T\n",
    "    feature = feature_matrix.reshape(1,-1)   \n",
    "    #(b) scale the feature\n",
    "    feature_scaled = scaler.transform(feature)\n",
    "    #(c) predict label\n",
    "    pred_label = svm.predict(feature_scaled)\n",
    "    print(feature_scaled)\n",
    "    #(d) store the label in labels\n",
    "    if pred_label == 1:\n",
    "        for n in range(start,end):\n",
    "            labels[n] = 1\n",
    "    if pred_label == 0:\n",
    "        for n in range(start,end):\n",
    "            colors[n] = 'b'\n",
    "    elif pred_label == 1:\n",
    "        for n in range(start,end):\n",
    "            colors[n] = 'r'\n",
    "    for n in range(end,len(colors)):\n",
    "        colors[n] = 'black'\n",
    "\n",
    "# show 18th subcarrier \n",
    "csi_amp = CSI_amp[k]\n",
    "fig, (ax1, ax2) = plt.subplots(nrows=2, ncols=1)\n",
    "ax1.scatter(time_sequence, csi_phase[:,48],s = 1, c = colors)\n",
    "ax1.set_title(\"CSI phase\")\n",
    "ax2.scatter(time_sequence, csi_amp[:,48],s = 1,c = colors)\n",
    "ax2.set_title(\"CSI amplitude\")\n",
    "fig.subplots_adjust(hspace=0.5)\n",
    "plt.show()"
   ]
  },
  {
   "cell_type": "code",
   "execution_count": null,
   "id": "5f569561",
   "metadata": {
    "ExecuteTime": {
     "end_time": "2023-04-07T16:20:05.821851Z",
     "start_time": "2023-04-07T16:20:00.364025Z"
    }
   },
   "outputs": [],
   "source": [
    "import pandas as pd\n",
    "import numpy as np\n",
    "import os\n",
    "\n",
    "movement_folder = '/Users/wanrylin/Master Programme/dataset/original data/test/walking'\n",
    "Motion = 'walk'\n",
    "CSI_amp,CSI_pha,Time_sequence,motion_label = CSIextracter(movement_folder,Motion)\n",
    "\n",
    "import joblib\n",
    "from sklearn.decomposition import PCA\n",
    "\n",
    "Label = movement_detection(CSI_pha,Time_sequence)"
   ]
  },
  {
   "cell_type": "code",
   "execution_count": null,
   "id": "ed6968c2",
   "metadata": {
    "ExecuteTime": {
     "end_time": "2023-04-07T12:28:47.137783Z",
     "start_time": "2023-04-07T12:28:46.554097Z"
    }
   },
   "outputs": [],
   "source": [
    "# Load the saved model\n",
    "model = tf.keras.models.load_model('saved_model/walk_NN')"
   ]
  },
  {
   "cell_type": "code",
   "execution_count": null,
   "id": "fbcab305",
   "metadata": {
    "ExecuteTime": {
     "end_time": "2023-04-07T16:16:59.568665Z",
     "start_time": "2023-04-07T16:16:58.805607Z"
    }
   },
   "outputs": [],
   "source": [
    "X_test= dataset_generater(CSI_AMP,my_test_label)\n",
    "y_test = true_label\n",
    "y_test = tf.keras.utils.to_categorical(y_test, 2)\n",
    "test_loss, test_accuracy = model.evaluate(X_test,y_test,verbose=2)"
   ]
  },
  {
   "cell_type": "code",
   "execution_count": null,
   "id": "dcec540b",
   "metadata": {
    "ExecuteTime": {
     "end_time": "2023-04-07T16:17:02.038146Z",
     "start_time": "2023-04-07T16:17:01.983300Z"
    }
   },
   "outputs": [],
   "source": [
    "# get predicted probabilities for each class\n",
    "y_pred_prob = model.predict(X_test)\n",
    "\n",
    "# get predicted labels (class with highest probability)\n",
    "y_pred = np.argmax(y_pred_prob, axis=1)\n",
    "\n",
    "y_truth = np.argmax(y_test, axis=1)\n",
    "print(y_pred)\n",
    "print(y_truth)\n",
    "for i in range(len(y_pred)):\n",
    "    if y_pred[i] != y_truth[i]:\n",
    "        print(Motion[y_pred[i]],Motion[y_truth[i]])"
   ]
  },
  {
   "cell_type": "code",
   "execution_count": null,
   "id": "ee766485",
   "metadata": {
    "ExecuteTime": {
     "end_time": "2023-04-07T16:20:51.034994Z",
     "start_time": "2023-04-07T16:20:51.030478Z"
    }
   },
   "outputs": [],
   "source": [
    "i = 0\n",
    "# my_test_label = []\n",
    "# CSI_AMP = []\n",
    "# true_label = []"
   ]
  },
  {
   "cell_type": "code",
   "execution_count": null,
   "id": "0c625d1b",
   "metadata": {
    "ExecuteTime": {
     "end_time": "2023-04-07T16:21:57.749182Z",
     "start_time": "2023-04-07T16:21:57.718111Z"
    }
   },
   "outputs": [],
   "source": [
    "import matplotlib.pyplot as plt\n",
    "\n",
    "csi_amp = CSI_amp[i]\n",
    "csi_phase = CSI_pha[i]\n",
    "labels = list(Label[i])\n",
    "motion = motion_label[i]\n",
    "time_sequence = Time_sequence[i]\n",
    "\n",
    "# cut the motion CSI slice\n",
    "motion_start = labels.index(1)\n",
    "motion_end = len(labels) - labels[::-1].index(1) - 1\n",
    "# motion_start = 0\n",
    "# motion_end = 500\n",
    "#     csi_slice = csi_amp[motion_start:motion_end]\n",
    "#     time_sequence = time_sequence[motion_start:motion_end]\n",
    "colors = list(np.zeros((len(csi_amp))))\n",
    "for n in range(len(labels)):\n",
    "    x = labels[n]\n",
    "    if x == 0:\n",
    "        colors[n] = 'b'\n",
    "    if x == 1:\n",
    "        colors[n] = 'r'\n",
    "\n",
    "dimension_num = 10\n",
    "# create a PCA object with 10 components\n",
    "pca = PCA(dimension_num)\n",
    "# fit the PCA object to the data and transform the data\n",
    "amp_pca = pca.fit_transform(csi_amp)\n",
    "\n",
    "# standarize\n",
    "# Create an instance of StandardScaler\n",
    "scaler = StandardScaler()\n",
    "scaler.fit(amp_pca)\n",
    "# Transform the data using the scaler\n",
    "scaled_data = scaler.transform(amp_pca)\n",
    "\n",
    "\n",
    "# show 18th subcarrier \n",
    "print(motion)\n",
    "fig, (ax1, ax2) = plt.subplots(nrows=2, ncols=1)\n",
    "ax1.scatter(time_sequence, csi_phase[:,18],s = 1, c = colors)\n",
    "ax1.set_title(\"CSI phase\")\n",
    "ax2.scatter(time_sequence, scaled_data[:,0],s = 1,c = colors)\n",
    "ax2.set_title(\"CSI amplitude\")\n",
    "fig.subplots_adjust(hspace=0.5)\n",
    "plt.show()\n",
    "print(motion_start,motion_end)"
   ]
  },
  {
   "cell_type": "code",
   "execution_count": null,
   "id": "e3568f3a",
   "metadata": {
    "ExecuteTime": {
     "end_time": "2023-04-07T16:21:55.524966Z",
     "start_time": "2023-04-07T16:21:55.520356Z"
    }
   },
   "outputs": [],
   "source": [
    "i += 1"
   ]
  },
  {
   "cell_type": "code",
   "execution_count": null,
   "id": "764a9080",
   "metadata": {
    "ExecuteTime": {
     "end_time": "2023-04-07T15:30:13.960082Z",
     "start_time": "2023-04-07T15:30:13.953659Z"
    }
   },
   "outputs": [],
   "source": [
    "time_sequence = list(time_sequence)\n",
    "motion_start = time_sequence.index(3400)\n",
    "motion_end = time_sequence.index(4200)\n",
    "labels = np.zeros((len(time_sequence)))\n",
    "for x in range(len(time_sequence)):\n",
    "    if motion_start < x and x < motion_end:\n",
    "        labels[x] = 1\n",
    "my_test_label.append(labels)\n",
    "CSI_AMP.append(csi_amp)\n",
    "true_label.append(int(1))"
   ]
  }
 ],
 "metadata": {
  "kernelspec": {
   "display_name": "Python 3.10 (tensorflow)",
   "language": "python",
   "name": "tensorflow"
  },
  "language_info": {
   "codemirror_mode": {
    "name": "ipython",
    "version": 3
   },
   "file_extension": ".py",
   "mimetype": "text/x-python",
   "name": "python",
   "nbconvert_exporter": "python",
   "pygments_lexer": "ipython3",
   "version": "3.10.9"
  },
  "toc": {
   "base_numbering": 1,
   "nav_menu": {},
   "number_sections": true,
   "sideBar": true,
   "skip_h1_title": false,
   "title_cell": "Table of Contents",
   "title_sidebar": "Contents",
   "toc_cell": false,
   "toc_position": {},
   "toc_section_display": true,
   "toc_window_display": false
  },
  "varInspector": {
   "cols": {
    "lenName": 16,
    "lenType": 16,
    "lenVar": 40
   },
   "kernels_config": {
    "python": {
     "delete_cmd_postfix": "",
     "delete_cmd_prefix": "del ",
     "library": "var_list.py",
     "varRefreshCmd": "print(var_dic_list())"
    },
    "r": {
     "delete_cmd_postfix": ") ",
     "delete_cmd_prefix": "rm(",
     "library": "var_list.r",
     "varRefreshCmd": "cat(var_dic_list()) "
    }
   },
   "types_to_exclude": [
    "module",
    "function",
    "builtin_function_or_method",
    "instance",
    "_Feature"
   ],
   "window_display": false
  }
 },
 "nbformat": 4,
 "nbformat_minor": 5
}
